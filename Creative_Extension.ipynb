{
 "cells": [
  {
   "cell_type": "markdown",
   "metadata": {},
   "source": [
    "## Things to implement: \n",
    "\n",
    "- Chi squared offline feature selection [here](https://docs.google.com/presentation/d/1kdqs7pAWWmFbHszl2N6Km-2X7nujMcMH5bu_g9ZGNWQ/edit#slide=id.g190c813b98_3_511)\n",
    "- Online feature selection [here](https://docs.google.com/presentation/d/1kdqs7pAWWmFbHszl2N6Km-2X7nujMcMH5bu_g9ZGNWQ/edit#slide=id.g190c813b98_3_511)\n",
    "- NN\n",
    "- SVM \n",
    "- BDT"
   ]
  },
  {
   "cell_type": "markdown",
   "metadata": {},
   "source": [
    "# Milestone P4: Team KLR - Extending the comparison of classification models for rare civil war onsets\n",
    "\n",
    "This notebook serves as an extension of Comparing Random Forest with Logistic Regression for Predicting Class-Imbalanced Civil War Onset Data by Muchlinski David, Siroky David, He Jingrui & Kocher Matthew (2016). In similar fashion as Muchlinski et al., 2016, we aim to contribute to the insofar discarded predictive statistical methods in political science, in favor of accurately predicting significant events such as civil wars. To this end, Muchlinski et al., 2016's approach of comparing experimental performance of algorithmic maneuveurs via a multitude of metrics is adopted. However, in contrast with only using Random Forest and near-arbitrarily selecting features, we attempt in our paper to explore and implement additional feature-selection and classification methods through rigorous incorporation of boosting, and a variety of classification algorithms, as well as on and offline feature selection, which benefit an extended, deepened comparison and discussion surrounding not only this imbalanced prediction task, but also the causal estimation of features. While indeed from Muchlinski et al., 2016, it seems that Random Forests drastically outperform their determined competitor in all metrics employed, nuance of their strengths and weaknesses in contrast with more suited models remains uninvestigated, providing justification for extending this analysis.\n",
    "\n",
    "First, we implement on-and-offline feature selection methods building on Muchlisnki' et al's comparison of Fearon and Latin (2003), Collier and Hoeffler (2004), and Hegre and Sambanis (2006). From which we would like to uncover how feature selection methods serve to aid model performance. The .txt file `notes.txt` contains which variables were used originally by Fearon and Latin (2003), Collier and Hoeffler (2004), and Hegre and Sambanis (2006). We first retrieve these and later compare performance with and without arbitrary feature selection. "
   ]
  },
  {
   "cell_type": "code",
   "execution_count": 6,
   "metadata": {},
   "outputs": [
    {
     "name": "stdout",
     "output_type": "stream",
     "text": [
      "The main dataset you have to use is `SambnisImp.csv`.\n",
      "Additionally, the provided `Sambanis Codebook.pdf` file contains a textual\n",
      "description of (most) used variables.\n",
      "\n",
      "---\n",
      "\n",
      "When loading the data for replication purposes, note that the authors only\n",
      "load the following 91 variables:\n",
      "\n",
      "    \"warstds\", \"ager\", \"agexp\", \"anoc\", \"army85\", \"autch98\", \"auto4\",\n",
      "    \"autonomy\", \"avgnabo\", \"centpol3\", \"coldwar\", \"decade1\", \"decade2\",\n",
      "    \"decade3\", \"decade4\", \"dem\", \"dem4\", \"demch98\", \"dlang\", \"drel\", \"durable\",\n",
      "    \"ef\", \"ef2\", \"ehet\", \"elfo\", \"elfo2\", \"etdo4590\", \"expgdp\", \"exrec\",\n",
      "    \"fedpol3\", \"fuelexp\", \"gdpgrowth\", \"geo1\", \"geo2\", \"geo34\", \"geo57\",\n",
      "    \"geo69\", \"geo8\", \"illiteracy\", \"incumb\", \"infant\", \"inst\", \"inst3\", \"life\",\n",
      "    \"lmtnest\", \"ln_gdpen\", \"lpopns\", \"major\", \"manuexp\", \"milper\", \"mirps0\",\n",
      "    \"mirps1\", \"mirps2\", \"mirps3\", \"nat_war\", \"ncontig\", \"nmgdp\", \"nmdp4_alt\",\n",
      "    \"numlang\", \"nwstate\", \"oil\", \"p4mchg\", \"parcomp\", \"parreg\", \"part\",\n",
      "    \"partfree\", \"plural\", \"plurrel\", \"pol4\", \"pol4m\", \"pol4sq\", \"polch98\",\n",
      "    \"polcomp\", \"popdense\", \"presi\", \"pri\", \"proxregc\", \"ptime\", \"reg\",\n",
      "    \"regd4_alt\", \"relfrac\", \"seceduc\", \"second\", \"semipol3\", \"sip2\", \"sxpnew\",\n",
      "    \"sxpsq\", \"tnatwar\", \"trade\", \"warhist\", \"xconst\"\n",
      "\n",
      "(For later tasks or for your own curiosity, it might make sense to leverage the rest of the data as well!)\n",
      "\n",
      "---\n",
      "\n",
      "The 3 logistic regression models the authors replicate in their paper, and that\n",
      "you will have to replicate as well, make use of the following features to\n",
      "predict the target:\n",
      "\n",
      "- Fearon and Laitin (2003): \"warhist\", \"ln_gdpen\", \"lpopns\", \"lmtnest\",\n",
      "    \"ncontig\", \"oil\", \"nwstate\", \"inst3\", \"pol4\", \"ef\", \"relfrac\".\n",
      "\n",
      "- Collier and Hoeffler (2004): \"sxpnew\", \"sxpsq\", \"ln_gdpen\", \"gdpgrowth\",\n",
      "    \"warhist\", \"lmtnest\", \"ef\", \"popdense\", \"lpopns\", \"coldwar\", \"seceduc\",\n",
      "    \"ptime\".\n",
      "\n",
      "- Hegre and Sambanis (2006): \"lpopns\", \"ln_gdpen\", \"inst3\", \"parreg\", \"geo34\",\n",
      "    \"proxregc\", \"gdpgrowth\", \"anoc\", \"partfree\", \"nat_war\", \"lmtnest\",\n",
      "    \"decade1\", \"pol4sq\", \"nwstate\", \"regd4_alt\", \"etdo4590\", \"milper\", \"geo1\",\n",
      "    \"tnatwar\", \"presi\".\n",
      "\n"
     ]
    }
   ],
   "source": [
    "!cat './data/notes.txt'"
   ]
  },
  {
   "cell_type": "code",
   "execution_count": 18,
   "metadata": {},
   "outputs": [],
   "source": [
    "# import necessary libraries, define data path, and other hard-coded variables\n",
    "import seaborn as sns\n",
    "import matplotlib.pyplot as plt\n",
    "import pandas as pd\n",
    "import numpy as np\n",
    "import re\n",
    "from sklearn.linear_model import LogisticRegression, LogisticRegressionCV\n",
    "from sklearn.ensemble import RandomForestClassifier\n",
    "from sklearn.metrics import roc_curve, auc, f1_score\n",
    "from sklearn.model_selection import cross_val_predict, cross_val_score\n",
    "from sklearn.preprocessing import StandardScaler\n",
    "from sklearn.pipeline import make_pipeline\n",
    "from imblearn.ensemble import BalancedRandomForestClassifier # pip install imblearn - scikit wrapper\n",
    "\n",
    "DATA_PATH = './data/'\n",
    "seed = 7\n",
    "\n",
    "# Extract features used in each paper from notes.txt \n",
    "with open(DATA_PATH+'notes.txt') as f:\n",
    "    \n",
    "    task_notes = f.readlines()\n",
    "    task_notes = ''.join(task_notes)\n",
    "    \n",
    "    fl_feature_names = re.search(r'(?<=Fearon and Laitin \\(2003\\):)[^.\\.]*',task_notes).group()\n",
    "    fl_feature_names = re.sub('\\n|\\s|\\\"','',fl_feature_names).split(',')\n",
    "    \n",
    "    ch_feature_names = re.search(r'(?<=Collier and Hoeffler \\(2004\\):)[^.\\.]*',task_notes).group()\n",
    "    ch_feature_names = re.sub('\\n|\\s|\\\"','',ch_feature_names).split(',')\n",
    "\n",
    "    hs_feature_names = re.search(r'(?<=Hegre and Sambanis \\(2006\\):)[^.\\.]*',task_notes).group()\n",
    "    hs_feature_names = re.sub('\\n|\\s|\\\"','',hs_feature_names).split(',')\n",
    "    \n",
    "    auth_features = re.search(r'(?<=91 variables:)[^.\\(]*',task_notes).group()\n",
    "    auth_features = re.sub('\\n|\\s|\\\"','',auth_features).split(',')\n",
    "    \n",
    "# load data\n",
    "master_data = pd.read_csv(DATA_PATH+'SambnisImp.csv', index_col='X')\n",
    "\n",
    "# split data into features used for each paper and retrieve regressand \n",
    "y_master = master_data['warstds']\n",
    "\n",
    "fl_x = master_data[fl_feature_names]\n",
    "ch_x = master_data[ch_feature_names]\n",
    "hs_x = master_data[hs_feature_names]\n",
    "auth_x = master_data[auth_features]"
   ]
  },
  {
   "cell_type": "code",
   "execution_count": 8,
   "metadata": {},
   "outputs": [],
   "source": [
    "def compute_roc_vals(X, y, pipeline):\n",
    "    \n",
    "    # set seed and ensure input are numpy arrays\n",
    "    np.random.seed(seed)\n",
    "    X, y = X.to_numpy(), y.to_numpy()\n",
    "    \n",
    "    # If logistic regression, compute best regularization weight and set it\n",
    "    if 'logisticregression' in pipeline.named_steps:\n",
    "    \n",
    "        n_grid_search = 5\n",
    "        r_lambda = LogisticRegressionCV(Cs = n_grid_search, cv=10, max_iter=10000, scoring='roc_auc', random_state = seed).fit(X, y)\n",
    "        pipeline['logisticregression'].set_params(C = r_lambda.C_[0], random_state = seed)\n",
    "        \n",
    "        # Predict the probabilities with a cross validation\n",
    "        y_pred = cross_val_predict(pipeline, X, y, cv=10, method='predict_proba')[:,1]\n",
    "        \n",
    "        \n",
    "    if 'randomforestclassifier' or 'balancedrandomforestclassifier' in pipeline.named_steps:\n",
    "        \n",
    "        y_pred = cross_val_predict(pipeline, X, y, cv=10, method='predict_proba')[:,1]\n",
    "    \n",
    "    if 'svc' in pipeline.named_steps:\n",
    "        \n",
    "        pass\n",
    "        #y_pred = cross_val_predict(pipeline, X, y, cv=10, method='predict')\n",
    "    \n",
    "    # Compute the False Positive Rate and True Positive Rate\n",
    "    fpr, tpr, _ = roc_curve(y, y_pred)\n",
    "    # Compute the area under the fpr-tpr curve\n",
    "    auc_score = auc(fpr, tpr)\n",
    "    # Compute f1 score\n",
    "    f1 = f1_score(y, (y_pred > 0.5).astype(int)) # how do they get figure 3? i get f1 scores of 0 because the model doesnt predict any civil war onsets..\n",
    "    \n",
    "    return fpr, tpr, auc_score, f1\n",
    "\n",
    "# rewrite this function with seaborn\n",
    "def roc_plt(fpr, tpr, auc_score):\n",
    "    plt.plot(fpr, tpr)\n",
    "    plt.plot([0, 1], [0, 1],'r--')\n",
    "    plt.xlabel(\"False Positive Rate\")\n",
    "    plt.ylabel(\"True Positive Rate\")\n",
    "    plt.title(\"ROC Curve - Area = {:.2f}\".format(round(auc_score,2)))\n",
    "    plt.show()\n",
    "    \n",
    "roc_vals={}"
   ]
  },
  {
   "cell_type": "markdown",
   "metadata": {},
   "source": [
    "First we reproduce the plots from the authors as follows, (can remove later if unnecessary/undesired) - I also dont know how they get f1 scores from these logistic models, given that the f1 score is 0 for multiple of them.."
   ]
  },
  {
   "cell_type": "code",
   "execution_count": 9,
   "metadata": {},
   "outputs": [
    {
     "data": {
      "image/png": "[encoded data removed]",
      "text/plain": [
       "<Figure size 432x288 with 1 Axes>"
      ]
     },
     "metadata": {
      "needs_background": "light"
     },
     "output_type": "display_data"
    },
    {
     "data": {
      "image/png": "[encoded data removed]",
      "text/plain": [
       "<Figure size 432x288 with 1 Axes>"
      ]
     },
     "metadata": {
      "needs_background": "light"
     },
     "output_type": "display_data"
    },
    {
     "data": {
      "image/png": "[encoded data removed]",
      "text/plain": [
       "<Figure size 432x288 with 1 Axes>"
      ]
     },
     "metadata": {
      "needs_background": "light"
     },
     "output_type": "display_data"
    },
    {
     "data": {
      "image/png": "[encoded data removed]",
      "text/plain": [
       "<Figure size 432x288 with 1 Axes>"
      ]
     },
     "metadata": {
      "needs_background": "light"
     },
     "output_type": "display_data"
    }
   ],
   "source": [
    "# roc plots for logistic models\n",
    "log_pipeline = make_pipeline(StandardScaler(), LogisticRegression(max_iter=10000, penalty='l2'))\n",
    "\n",
    "roc_vals['log_fl'] = compute_roc_vals(fl_x, y_master, log_pipeline)\n",
    "roc_vals['log_ch'] = compute_roc_vals(ch_x, y_master, log_pipeline)\n",
    "roc_vals['log_hs'] = compute_roc_vals(hs_x, y_master, log_pipeline)\n",
    "roc_vals['log_auth'] = compute_roc_vals(hs_x, y_master, log_pipeline)\n",
    "roc_plt(*roc_vals['log_fl'][:3])\n",
    "roc_plt(*roc_vals['log_ch'][:3])\n",
    "roc_plt(*roc_vals['log_hs'][:3])\n",
    "roc_plt(*roc_vals['log_auth'][:3])"
   ]
  },
  {
   "cell_type": "markdown",
   "metadata": {},
   "source": [
    "Interestingly, it seems that the noise from the inclusion of all the variables does not allow the Logistic Model to increase AUC score. The noise is poorly dealt with by the logistic model. Does the RF suffer from the same problem?"
   ]
  },
  {
   "cell_type": "code",
   "execution_count": 10,
   "metadata": {},
   "outputs": [
    {
     "data": {
      "image/png": "[encoded data removed]",
      "text/plain": [
       "<Figure size 432x288 with 1 Axes>"
      ]
     },
     "metadata": {
      "needs_background": "light"
     },
     "output_type": "display_data"
    },
    {
     "data": {
      "image/png": "[encoded data removed]",
      "text/plain": [
       "<Figure size 432x288 with 1 Axes>"
      ]
     },
     "metadata": {
      "needs_background": "light"
     },
     "output_type": "display_data"
    }
   ],
   "source": [
    "n_trees = 1000\n",
    "rf_pipeline = make_pipeline(StandardScaler(), RandomForestClassifier(n_estimators=n_trees))\n",
    "# roc plots for rf without downsampling - fearon laitin variables\n",
    "roc_vals['rf_fl'] = compute_roc_vals(fl_x, y_master, rf_pipeline)\n",
    "# roc plots for rf without downsampling - all 90 variables the authors load\n",
    "roc_vals['rf_auth'] = compute_roc_vals(auth_x, y_master, rf_pipeline)\n",
    "roc_plt(*roc_vals['rf_fl'][:3])\n",
    "roc_plt(*roc_vals['rf_auth'][:3])"
   ]
  },
  {
   "cell_type": "code",
   "execution_count": 11,
   "metadata": {},
   "outputs": [
    {
     "data": {
      "image/png": "[encoded data removed]",
      "text/plain": [
       "<Figure size 432x288 with 1 Axes>"
      ]
     },
     "metadata": {
      "needs_background": "light"
     },
     "output_type": "display_data"
    }
   ],
   "source": [
    "# roc plots for rf with downsampling - all 90 variables the authors load\n",
    "down_sample_ratio = 1/2\n",
    "brf_pipeline = make_pipeline(StandardScaler(), BalancedRandomForestClassifier(n_estimators=1000, sampling_strategy = down_sample_ratio))\n",
    "roc_vals['brf'] = compute_roc_vals(auth_x, y_master, brf_pipeline)\n",
    "roc_plt(*roc_vals['brf'][:3])"
   ]
  },
  {
   "cell_type": "markdown",
   "metadata": {},
   "source": [
    "It seems, in fact, that the dataset is simple enough for an AUC score of 1 with barely any hyperparameter optimization, begging the question of which variables the authors' used and how they concluded with a marginally lower AUC score of 0.90. However, this is a first illustration of the ability of the RF to deal with class imbalanced data and steadily deal with the noise unlike the logistic models. Therefore, pinning the importance of feature selection in more simplistic models which cannot filter through the noise. We move on to more suited models (Support vector machines (if this one doesnt work well we can move on to another model), Boosted Decision Trees, and Neural Networks). "
   ]
  },
  {
   "cell_type": "markdown",
   "metadata": {},
   "source": [
    "## SVM \n",
    "\n",
    "https://stats.stackexchange.com/questions/37795/roc-curve-for-discrete-classifiers-like-svm-why-do-we-still-call-it-a-curve"
   ]
  },
  {
   "cell_type": "code",
   "execution_count": 75,
   "metadata": {},
   "outputs": [],
   "source": [
    "from sklearn import svm\n",
    "\n",
    "svm_pipeline = make_pipeline(StandardScaler(), svm.SVC())"
   ]
  },
  {
   "cell_type": "markdown",
   "metadata": {},
   "source": [
    "## III/ Boosted Decision Trees"
   ]
  },
  {
   "cell_type": "markdown",
   "metadata": {},
   "source": [
    "Random Forest and Boosted Decision Trees both are based on Decision Trees to make predictions. However, Random Forest uses **Bagging**, which relies on training learners in parallel on different samples of the data and then combining by voting (discrete output) or by averaging (continuous output). It is really easy to implement and to parallelize (and therefore one of the most popular classifier for dense data). Whereas Boosted Decision Trees uses **Boosting**, which relies on training learner again, but after filtering/weighting samples based on output of previous train/test runs. In contrast to Random Forest, here the trees are trained independently as they are trained sequentially by boosting (meaning that each tree is trained to predict error residuals of previous trees). This technic allows to reduce the bias.\n",
    "\n",
    "After many researches on the internet, we found that actually **Random Forest is not really suited for classification problems with a skewed class distribution**. However, according to the literature, Boosted Decision Trees seems less sensitive to such imbalanced dataset. This is why we will implement it and test this hypothesis."
   ]
  },
  {
   "cell_type": "markdown",
   "metadata": {},
   "source": [
    "### 1) Kind of Boosted Decision Trees?\n",
    "\n",
    "`sklearn` offers such a Boosting Decision Trees classifier: `AdaBoostClassifer`. \n",
    "\n",
    "Here is a bit of knowledge about AdaBoost : \"The core principle of AdaBoost is to **fit a sequence of weak learners** (i.e., models that are only slightly better than random guessing, such as small decision trees) on repeatedly modified versions of the data. The predictions from all of them are then combined through a **weighted majority vote** (or sum) to produce the final prediction. The data modifications at each so-called **boosting iteration consist of applying weights $w_i$ to each of the training samples**. Initially, those weights are all set to $w_i = 1/N$ so that the first step simply trains a weak learner on the original data. For each successive iteration, the sample weights are individually modified and the learning algorithm is reapplied to the reweighted data. At a given step, **those training examples that were incorrectly predicted by the boosted model induced at the previous step have their weights increased, whereas the weights are decreased for those that were predicted correctly**. As iterations proceed, **examples that are difficult to predict receive ever-increasing influence**. Each subsequent weak learner is thereby forced to concentrate on the examples that are missed by the previous ones in the sequence\""
   ]
  },
  {
   "cell_type": "markdown",
   "metadata": {},
   "source": [
    "With this, we understand clearly here why this kind of Boosted Decision Trees has better chance to handle imbalanced dataset. Civil War Onsets being really rare and hard to predict events, it will receive an ever-increasing influence through the weights until it balances out the fact that they are rare in the dataset. This why, we can hope that the model will be better suited (than RF) to predict these kind of events as it will be forced to concentrate on these hard to detected (because rare) events missed by the previous trees."
   ]
  },
  {
   "cell_type": "markdown",
   "metadata": {},
   "source": [
    "### 2) Libraries"
   ]
  },
  {
   "cell_type": "code",
   "execution_count": 69,
   "metadata": {},
   "outputs": [],
   "source": [
    "from sklearn.ensemble import AdaBoostClassifier\n",
    "from sklearn.tree import DecisionTreeClassifier"
   ]
  },
  {
   "cell_type": "markdown",
   "metadata": {},
   "source": [
    "### 3) Implementing AdaBoostClassifier"
   ]
  },
  {
   "cell_type": "code",
   "execution_count": 26,
   "metadata": {},
   "outputs": [],
   "source": [
    "nt = 100 #to tune\n",
    "AdaBoostmodel = AdaBoostClassifier(n_estimators=nt, random_state = 0)"
   ]
  },
  {
   "cell_type": "code",
   "execution_count": 27,
   "metadata": {},
   "outputs": [
    {
     "data": {
      "text/html": [
       "<div>\n",
       "<style scoped>\n",
       "    .dataframe tbody tr th:only-of-type {\n",
       "        vertical-align: middle;\n",
       "    }\n",
       "\n",
       "    .dataframe tbody tr th {\n",
       "        vertical-align: top;\n",
       "    }\n",
       "\n",
       "    .dataframe thead th {\n",
       "        text-align: right;\n",
       "    }\n",
       "</style>\n",
       "<table border=\"1\" class=\"dataframe\">\n",
       "  <thead>\n",
       "    <tr style=\"text-align: right;\">\n",
       "      <th></th>\n",
       "      <th>warstds</th>\n",
       "      <th>ager</th>\n",
       "      <th>agexp</th>\n",
       "      <th>anoc</th>\n",
       "      <th>army85</th>\n",
       "      <th>autch98</th>\n",
       "      <th>auto4</th>\n",
       "      <th>autonomy</th>\n",
       "      <th>avgnabo</th>\n",
       "      <th>centpol3</th>\n",
       "      <th>...</th>\n",
       "      <th>seceduc</th>\n",
       "      <th>second</th>\n",
       "      <th>semipol3</th>\n",
       "      <th>sip2</th>\n",
       "      <th>sxpnew</th>\n",
       "      <th>sxpsq</th>\n",
       "      <th>tnatwar</th>\n",
       "      <th>trade</th>\n",
       "      <th>warhist</th>\n",
       "      <th>xconst</th>\n",
       "    </tr>\n",
       "    <tr>\n",
       "      <th>X</th>\n",
       "      <th></th>\n",
       "      <th></th>\n",
       "      <th></th>\n",
       "      <th></th>\n",
       "      <th></th>\n",
       "      <th></th>\n",
       "      <th></th>\n",
       "      <th></th>\n",
       "      <th></th>\n",
       "      <th></th>\n",
       "      <th></th>\n",
       "      <th></th>\n",
       "      <th></th>\n",
       "      <th></th>\n",
       "      <th></th>\n",
       "      <th></th>\n",
       "      <th></th>\n",
       "      <th></th>\n",
       "      <th></th>\n",
       "      <th></th>\n",
       "      <th></th>\n",
       "    </tr>\n",
       "  </thead>\n",
       "  <tbody>\n",
       "    <tr>\n",
       "      <th>1</th>\n",
       "      <td>0</td>\n",
       "      <td>34.461765</td>\n",
       "      <td>8.510845</td>\n",
       "      <td>0</td>\n",
       "      <td>129472.9042</td>\n",
       "      <td>0</td>\n",
       "      <td>3.925812</td>\n",
       "      <td>0.005151</td>\n",
       "      <td>0.432955</td>\n",
       "      <td>1</td>\n",
       "      <td>...</td>\n",
       "      <td>43.770298</td>\n",
       "      <td>0.253000</td>\n",
       "      <td>0.058441</td>\n",
       "      <td>0.46176</td>\n",
       "      <td>0.158275</td>\n",
       "      <td>0.052989</td>\n",
       "      <td>0.443259</td>\n",
       "      <td>72.881375</td>\n",
       "      <td>0</td>\n",
       "      <td>3.995912</td>\n",
       "    </tr>\n",
       "    <tr>\n",
       "      <th>2</th>\n",
       "      <td>0</td>\n",
       "      <td>34.346348</td>\n",
       "      <td>8.478997</td>\n",
       "      <td>0</td>\n",
       "      <td>129413.0225</td>\n",
       "      <td>0</td>\n",
       "      <td>10.000000</td>\n",
       "      <td>0.000000</td>\n",
       "      <td>0.045052</td>\n",
       "      <td>1</td>\n",
       "      <td>...</td>\n",
       "      <td>43.588363</td>\n",
       "      <td>0.253000</td>\n",
       "      <td>0.000000</td>\n",
       "      <td>0.00000</td>\n",
       "      <td>0.158321</td>\n",
       "      <td>0.052663</td>\n",
       "      <td>1.000000</td>\n",
       "      <td>72.900089</td>\n",
       "      <td>0</td>\n",
       "      <td>1.000000</td>\n",
       "    </tr>\n",
       "    <tr>\n",
       "      <th>3</th>\n",
       "      <td>0</td>\n",
       "      <td>77.000000</td>\n",
       "      <td>8.481015</td>\n",
       "      <td>0</td>\n",
       "      <td>130431.0145</td>\n",
       "      <td>0</td>\n",
       "      <td>10.000000</td>\n",
       "      <td>0.000000</td>\n",
       "      <td>0.030034</td>\n",
       "      <td>1</td>\n",
       "      <td>...</td>\n",
       "      <td>43.538181</td>\n",
       "      <td>0.253000</td>\n",
       "      <td>0.000000</td>\n",
       "      <td>0.00000</td>\n",
       "      <td>0.158425</td>\n",
       "      <td>0.052891</td>\n",
       "      <td>2.000000</td>\n",
       "      <td>72.962880</td>\n",
       "      <td>0</td>\n",
       "      <td>1.000000</td>\n",
       "    </tr>\n",
       "    <tr>\n",
       "      <th>4</th>\n",
       "      <td>0</td>\n",
       "      <td>78.000000</td>\n",
       "      <td>8.451628</td>\n",
       "      <td>0</td>\n",
       "      <td>126781.6866</td>\n",
       "      <td>0</td>\n",
       "      <td>10.000000</td>\n",
       "      <td>0.000000</td>\n",
       "      <td>0.022526</td>\n",
       "      <td>1</td>\n",
       "      <td>...</td>\n",
       "      <td>43.490005</td>\n",
       "      <td>0.253000</td>\n",
       "      <td>0.000000</td>\n",
       "      <td>0.00000</td>\n",
       "      <td>0.159006</td>\n",
       "      <td>0.052902</td>\n",
       "      <td>2.000000</td>\n",
       "      <td>73.102449</td>\n",
       "      <td>0</td>\n",
       "      <td>1.000000</td>\n",
       "    </tr>\n",
       "    <tr>\n",
       "      <th>5</th>\n",
       "      <td>0</td>\n",
       "      <td>79.000000</td>\n",
       "      <td>8.500172</td>\n",
       "      <td>0</td>\n",
       "      <td>130979.2470</td>\n",
       "      <td>0</td>\n",
       "      <td>10.000000</td>\n",
       "      <td>0.000000</td>\n",
       "      <td>0.022526</td>\n",
       "      <td>1</td>\n",
       "      <td>...</td>\n",
       "      <td>43.602238</td>\n",
       "      <td>0.253000</td>\n",
       "      <td>0.000000</td>\n",
       "      <td>0.00000</td>\n",
       "      <td>0.158074</td>\n",
       "      <td>0.052706</td>\n",
       "      <td>2.000000</td>\n",
       "      <td>72.850389</td>\n",
       "      <td>0</td>\n",
       "      <td>1.000000</td>\n",
       "    </tr>\n",
       "    <tr>\n",
       "      <th>...</th>\n",
       "      <td>...</td>\n",
       "      <td>...</td>\n",
       "      <td>...</td>\n",
       "      <td>...</td>\n",
       "      <td>...</td>\n",
       "      <td>...</td>\n",
       "      <td>...</td>\n",
       "      <td>...</td>\n",
       "      <td>...</td>\n",
       "      <td>...</td>\n",
       "      <td>...</td>\n",
       "      <td>...</td>\n",
       "      <td>...</td>\n",
       "      <td>...</td>\n",
       "      <td>...</td>\n",
       "      <td>...</td>\n",
       "      <td>...</td>\n",
       "      <td>...</td>\n",
       "      <td>...</td>\n",
       "      <td>...</td>\n",
       "      <td>...</td>\n",
       "    </tr>\n",
       "    <tr>\n",
       "      <th>9628</th>\n",
       "      <td>0</td>\n",
       "      <td>31.000000</td>\n",
       "      <td>6.760000</td>\n",
       "      <td>0</td>\n",
       "      <td>46000.0000</td>\n",
       "      <td>0</td>\n",
       "      <td>6.000000</td>\n",
       "      <td>0.000000</td>\n",
       "      <td>0.552250</td>\n",
       "      <td>1</td>\n",
       "      <td>...</td>\n",
       "      <td>47.299999</td>\n",
       "      <td>0.200000</td>\n",
       "      <td>0.058530</td>\n",
       "      <td>0.35749</td>\n",
       "      <td>0.175017</td>\n",
       "      <td>0.030631</td>\n",
       "      <td>0.000000</td>\n",
       "      <td>78.975510</td>\n",
       "      <td>0</td>\n",
       "      <td>3.000000</td>\n",
       "    </tr>\n",
       "    <tr>\n",
       "      <th>9629</th>\n",
       "      <td>0</td>\n",
       "      <td>32.000000</td>\n",
       "      <td>7.620000</td>\n",
       "      <td>0</td>\n",
       "      <td>46000.0000</td>\n",
       "      <td>0</td>\n",
       "      <td>6.000000</td>\n",
       "      <td>0.000000</td>\n",
       "      <td>0.552250</td>\n",
       "      <td>1</td>\n",
       "      <td>...</td>\n",
       "      <td>47.299999</td>\n",
       "      <td>0.200000</td>\n",
       "      <td>0.058706</td>\n",
       "      <td>0.35749</td>\n",
       "      <td>0.194624</td>\n",
       "      <td>0.037878</td>\n",
       "      <td>0.000000</td>\n",
       "      <td>72.737373</td>\n",
       "      <td>0</td>\n",
       "      <td>3.000000</td>\n",
       "    </tr>\n",
       "    <tr>\n",
       "      <th>9630</th>\n",
       "      <td>0</td>\n",
       "      <td>33.000000</td>\n",
       "      <td>10.590000</td>\n",
       "      <td>0</td>\n",
       "      <td>46000.0000</td>\n",
       "      <td>0</td>\n",
       "      <td>6.000000</td>\n",
       "      <td>0.000000</td>\n",
       "      <td>0.552250</td>\n",
       "      <td>1</td>\n",
       "      <td>...</td>\n",
       "      <td>47.299999</td>\n",
       "      <td>0.200000</td>\n",
       "      <td>0.058580</td>\n",
       "      <td>0.35749</td>\n",
       "      <td>0.158606</td>\n",
       "      <td>0.052775</td>\n",
       "      <td>0.000000</td>\n",
       "      <td>79.235222</td>\n",
       "      <td>0</td>\n",
       "      <td>3.000000</td>\n",
       "    </tr>\n",
       "    <tr>\n",
       "      <th>9631</th>\n",
       "      <td>0</td>\n",
       "      <td>34.000000</td>\n",
       "      <td>8.514664</td>\n",
       "      <td>0</td>\n",
       "      <td>46000.0000</td>\n",
       "      <td>-1</td>\n",
       "      <td>6.000000</td>\n",
       "      <td>0.000000</td>\n",
       "      <td>0.552250</td>\n",
       "      <td>1</td>\n",
       "      <td>...</td>\n",
       "      <td>47.299999</td>\n",
       "      <td>0.200000</td>\n",
       "      <td>0.058705</td>\n",
       "      <td>0.35749</td>\n",
       "      <td>0.157868</td>\n",
       "      <td>0.052714</td>\n",
       "      <td>0.000000</td>\n",
       "      <td>72.858179</td>\n",
       "      <td>0</td>\n",
       "      <td>3.000000</td>\n",
       "    </tr>\n",
       "    <tr>\n",
       "      <th>9632</th>\n",
       "      <td>0</td>\n",
       "      <td>35.000000</td>\n",
       "      <td>8.505816</td>\n",
       "      <td>0</td>\n",
       "      <td>46000.0000</td>\n",
       "      <td>0</td>\n",
       "      <td>6.000000</td>\n",
       "      <td>0.000000</td>\n",
       "      <td>0.552250</td>\n",
       "      <td>1</td>\n",
       "      <td>...</td>\n",
       "      <td>47.299999</td>\n",
       "      <td>0.152446</td>\n",
       "      <td>0.058604</td>\n",
       "      <td>0.35749</td>\n",
       "      <td>0.158083</td>\n",
       "      <td>0.052926</td>\n",
       "      <td>0.000000</td>\n",
       "      <td>72.860222</td>\n",
       "      <td>0</td>\n",
       "      <td>3.000000</td>\n",
       "    </tr>\n",
       "  </tbody>\n",
       "</table>\n",
       "<p>7140 rows × 91 columns</p>\n",
       "</div>"
      ],
      "text/plain": [
       "      warstds       ager      agexp  anoc       army85  autch98      auto4  \\\n",
       "X                                                                            \n",
       "1           0  34.461765   8.510845     0  129472.9042        0   3.925812   \n",
       "2           0  34.346348   8.478997     0  129413.0225        0  10.000000   \n",
       "3           0  77.000000   8.481015     0  130431.0145        0  10.000000   \n",
       "4           0  78.000000   8.451628     0  126781.6866        0  10.000000   \n",
       "5           0  79.000000   8.500172     0  130979.2470        0  10.000000   \n",
       "...       ...        ...        ...   ...          ...      ...        ...   \n",
       "9628        0  31.000000   6.760000     0   46000.0000        0   6.000000   \n",
       "9629        0  32.000000   7.620000     0   46000.0000        0   6.000000   \n",
       "9630        0  33.000000  10.590000     0   46000.0000        0   6.000000   \n",
       "9631        0  34.000000   8.514664     0   46000.0000       -1   6.000000   \n",
       "9632        0  35.000000   8.505816     0   46000.0000        0   6.000000   \n",
       "\n",
       "      autonomy   avgnabo  centpol3  ...    seceduc    second  semipol3  \\\n",
       "X                                   ...                                  \n",
       "1     0.005151  0.432955         1  ...  43.770298  0.253000  0.058441   \n",
       "2     0.000000  0.045052         1  ...  43.588363  0.253000  0.000000   \n",
       "3     0.000000  0.030034         1  ...  43.538181  0.253000  0.000000   \n",
       "4     0.000000  0.022526         1  ...  43.490005  0.253000  0.000000   \n",
       "5     0.000000  0.022526         1  ...  43.602238  0.253000  0.000000   \n",
       "...        ...       ...       ...  ...        ...       ...       ...   \n",
       "9628  0.000000  0.552250         1  ...  47.299999  0.200000  0.058530   \n",
       "9629  0.000000  0.552250         1  ...  47.299999  0.200000  0.058706   \n",
       "9630  0.000000  0.552250         1  ...  47.299999  0.200000  0.058580   \n",
       "9631  0.000000  0.552250         1  ...  47.299999  0.200000  0.058705   \n",
       "9632  0.000000  0.552250         1  ...  47.299999  0.152446  0.058604   \n",
       "\n",
       "         sip2    sxpnew     sxpsq   tnatwar      trade  warhist    xconst  \n",
       "X                                                                          \n",
       "1     0.46176  0.158275  0.052989  0.443259  72.881375        0  3.995912  \n",
       "2     0.00000  0.158321  0.052663  1.000000  72.900089        0  1.000000  \n",
       "3     0.00000  0.158425  0.052891  2.000000  72.962880        0  1.000000  \n",
       "4     0.00000  0.159006  0.052902  2.000000  73.102449        0  1.000000  \n",
       "5     0.00000  0.158074  0.052706  2.000000  72.850389        0  1.000000  \n",
       "...       ...       ...       ...       ...        ...      ...       ...  \n",
       "9628  0.35749  0.175017  0.030631  0.000000  78.975510        0  3.000000  \n",
       "9629  0.35749  0.194624  0.037878  0.000000  72.737373        0  3.000000  \n",
       "9630  0.35749  0.158606  0.052775  0.000000  79.235222        0  3.000000  \n",
       "9631  0.35749  0.157868  0.052714  0.000000  72.858179        0  3.000000  \n",
       "9632  0.35749  0.158083  0.052926  0.000000  72.860222        0  3.000000  \n",
       "\n",
       "[7140 rows x 91 columns]"
      ]
     },
     "metadata": {},
     "output_type": "display_data"
    }
   ],
   "source": [
    "display(auth_x)"
   ]
  },
  {
   "cell_type": "code",
   "execution_count": 28,
   "metadata": {},
   "outputs": [],
   "source": [
    "target = auth_x['warstds']\n",
    "features = auth_x.drop('warstds', axis = 1)"
   ]
  },
  {
   "cell_type": "code",
   "execution_count": 30,
   "metadata": {},
   "outputs": [],
   "source": [
    "AdaBoostmodel.fit(features, target);"
   ]
  },
  {
   "cell_type": "markdown",
   "metadata": {},
   "source": [
    "### 4) Tuning hyperparameters: Cross-validation"
   ]
  },
  {
   "cell_type": "markdown",
   "metadata": {},
   "source": [
    "We saw previously that our AdaBoostmodel was depending on an hyperparameter `nt`. We will now tune it using Cross-validation."
   ]
  },
  {
   "cell_type": "code",
   "execution_count": 35,
   "metadata": {},
   "outputs": [
    {
     "name": "stdout",
     "output_type": "stream",
     "text": [
      "50\n",
      "60\n",
      "70\n",
      "80\n",
      "90\n",
      "100\n",
      "110\n",
      "120\n",
      "130\n",
      "140\n",
      "150\n"
     ]
    }
   ],
   "source": [
    "number_trees = [50 + 10 * i for i in range(11)]\n",
    "precision_scores = []\n",
    "recalls_scores = []\n",
    "accuracy_scores = []\n",
    "f1_scores = []\n",
    "\n",
    "for nt in number_trees:\n",
    "    print(nt)\n",
    "    clf = AdaBoostClassifier(n_estimators=nt, random_state=0)\n",
    "    precision = cross_val_score(clf, features, target, cv=10, scoring=\"precision\")\n",
    "    precision_scores.append(precision.mean())\n",
    "    recall = cross_val_score(clf, features, target, cv=10, scoring=\"recall\")\n",
    "    recalls_scores.append(recall.mean())\n",
    "    accuracy = cross_val_score(clf, features, target, cv=10, scoring=\"accuracy\")\n",
    "    accuracy_scores.append(accuracy.mean())\n",
    "    f1 = cross_val_score(clf, features, target, cv=10, scoring=\"f1\")\n",
    "    f1_scores.append(f1.mean())"
   ]
  },
  {
   "cell_type": "code",
   "execution_count": 45,
   "metadata": {},
   "outputs": [
    {
     "data": {
      "image/png": "[encoded data removed]",
      "text/plain": [
       "<Figure size 432x288 with 1 Axes>"
      ]
     },
     "metadata": {
      "needs_background": "light"
     },
     "output_type": "display_data"
    }
   ],
   "source": [
    "fig, ax = plt.subplots(1,figsize=(6,4))\n",
    "\n",
    "ax.plot(number_trees, precision_scores, label=\"Precision\")\n",
    "ax.plot(number_trees, recalls_scores, label=\"Recall\")\n",
    "ax.plot(number_trees, accuracy_scores, label=\"Accuracy\")\n",
    "ax.plot(number_trees, f1_scores, label=\"F1_scores\")\n",
    "\n",
    "ax.set_ylabel(\"Score value\")\n",
    "ax.set_xlabel(\"Number of trees\")\n",
    "ax.legend()\n",
    "\n",
    "fig.tight_layout()"
   ]
  },
  {
   "cell_type": "markdown",
   "metadata": {},
   "source": [
    "**nt = 110** seems to be a good number of trees (by default it's 50). Note that the measures we are the most interested in is Precision and Recall (Accuracy being completely irrelevant because of the skewed dataset)"
   ]
  },
  {
   "cell_type": "markdown",
   "metadata": {},
   "source": [
    "AdaBoostClassifier has another hyperparameter : `base_estimator` which is DecisionTreeClassifier(max_depth=1) by default. We can tune the max_depth via cross-validation."
   ]
  },
  {
   "cell_type": "code",
   "execution_count": 71,
   "metadata": {},
   "outputs": [
    {
     "name": "stdout",
     "output_type": "stream",
     "text": [
      "1\n",
      "2\n",
      "3\n",
      "4\n",
      "5\n",
      "6\n"
     ]
    },
    {
     "name": "stderr",
     "output_type": "stream",
     "text": [
      "/home/loic/anaconda3/envs/ada/lib/python3.8/site-packages/sklearn/metrics/_classification.py:1221: UndefinedMetricWarning: Precision is ill-defined and being set to 0.0 due to no predicted samples. Use `zero_division` parameter to control this behavior.\n",
      "  _warn_prf(average, modifier, msg_start, len(result))\n"
     ]
    },
    {
     "name": "stdout",
     "output_type": "stream",
     "text": [
      "7\n"
     ]
    },
    {
     "name": "stderr",
     "output_type": "stream",
     "text": [
      "/home/loic/anaconda3/envs/ada/lib/python3.8/site-packages/sklearn/metrics/_classification.py:1221: UndefinedMetricWarning: Precision is ill-defined and being set to 0.0 due to no predicted samples. Use `zero_division` parameter to control this behavior.\n",
      "  _warn_prf(average, modifier, msg_start, len(result))\n"
     ]
    },
    {
     "name": "stdout",
     "output_type": "stream",
     "text": [
      "8\n",
      "9\n",
      "10\n"
     ]
    }
   ],
   "source": [
    "max_depth = [i for i in range(1,11)]\n",
    "precision_scores = []\n",
    "recalls_scores = []\n",
    "accuracy_scores = []\n",
    "f1_scores = []\n",
    "\n",
    "nt = 110 #tuned\n",
    "\n",
    "for depth in max_depth:\n",
    "    print(depth)\n",
    "    clf = AdaBoostClassifier(base_estimator = DecisionTreeClassifier(max_depth = depth), n_estimators=nt, random_state=0)\n",
    "    precision = cross_val_score(clf, features, target, cv=10, scoring=\"precision\")\n",
    "    precision_scores.append(precision.mean())\n",
    "    recall = cross_val_score(clf, features, target, cv=10, scoring=\"recall\")\n",
    "    recalls_scores.append(recall.mean())\n",
    "    accuracy = cross_val_score(clf, features, target, cv=10, scoring=\"accuracy\")\n",
    "    accuracy_scores.append(accuracy.mean())\n",
    "    f1 = cross_val_score(clf, features, target, cv=10, scoring=\"f1\")\n",
    "    f1_scores.append(f1.mean())"
   ]
  },
  {
   "cell_type": "code",
   "execution_count": 73,
   "metadata": {},
   "outputs": [
    {
     "data": {
      "image/png": "[encoded data removed]",
      "text/plain": [
       "<Figure size 432x288 with 1 Axes>"
      ]
     },
     "metadata": {
      "needs_background": "light"
     },
     "output_type": "display_data"
    }
   ],
   "source": [
    "fig, ax = plt.subplots(1,figsize=(6,4))\n",
    "\n",
    "ax.plot(max_depth, precision_scores, label=\"Precision\")\n",
    "ax.plot(max_depth, recalls_scores, label=\"Recall\")\n",
    "ax.plot(max_depth, accuracy_scores, label=\"Accuracy\")\n",
    "ax.plot(max_depth, f1_scores, label=\"F1_scores\")\n",
    "\n",
    "ax.set_ylabel(\"Score value\")\n",
    "ax.set_xlabel(\"Max depth of Decision Trees\")\n",
    "ax.legend()\n",
    "\n",
    "fig.tight_layout()"
   ]
  },
  {
   "cell_type": "markdown",
   "metadata": {},
   "source": [
    "Here we see that the bigger the max_depth, the bigger the Precision but the lower the Recall. We have to think about what's best for our application. Should we care more about Precision or about Recall? And to what extend? After testing with 1 and 8 number of trees, we obtain better ROC curves with 8 and thus will keep this value."
   ]
  },
  {
   "cell_type": "markdown",
   "metadata": {},
   "source": [
    "AdaBoostClassifier has another hyperparameter : `learning_rate`. We can tune the max_depth via cross-validation."
   ]
  },
  {
   "cell_type": "code",
   "execution_count": 79,
   "metadata": {},
   "outputs": [
    {
     "name": "stdout",
     "output_type": "stream",
     "text": [
      "0.1\n"
     ]
    },
    {
     "name": "stderr",
     "output_type": "stream",
     "text": [
      "/home/loic/anaconda3/envs/ada/lib/python3.8/site-packages/sklearn/metrics/_classification.py:1221: UndefinedMetricWarning: Precision is ill-defined and being set to 0.0 due to no predicted samples. Use `zero_division` parameter to control this behavior.\n",
      "  _warn_prf(average, modifier, msg_start, len(result))\n"
     ]
    },
    {
     "name": "stdout",
     "output_type": "stream",
     "text": [
      "0.5\n",
      "1\n",
      "1.5\n",
      "2\n"
     ]
    },
    {
     "name": "stderr",
     "output_type": "stream",
     "text": [
      "/home/loic/anaconda3/envs/ada/lib/python3.8/site-packages/sklearn/metrics/_classification.py:1221: UndefinedMetricWarning: Precision is ill-defined and being set to 0.0 due to no predicted samples. Use `zero_division` parameter to control this behavior.\n",
      "  _warn_prf(average, modifier, msg_start, len(result))\n"
     ]
    },
    {
     "name": "stdout",
     "output_type": "stream",
     "text": [
      "5\n"
     ]
    }
   ],
   "source": [
    "learning_rates = [0.1,0.5,1,1.5,2,5]\n",
    "precision_scores = []\n",
    "recalls_scores = []\n",
    "accuracy_scores = []\n",
    "f1_scores = []\n",
    "\n",
    "nt = 110 #tuned\n",
    "depth = 8 #tuned\n",
    "\n",
    "for learning_rate in learning_rates:\n",
    "    print(learning_rate)\n",
    "    clf = AdaBoostClassifier(base_estimator = DecisionTreeClassifier(max_depth = depth), n_estimators=nt, random_state=0, learning_rate=learning_rate)\n",
    "    precision = cross_val_score(clf, features, target, cv=10, scoring=\"precision\")\n",
    "    precision_scores.append(precision.mean())\n",
    "    recall = cross_val_score(clf, features, target, cv=10, scoring=\"recall\")\n",
    "    recalls_scores.append(recall.mean())\n",
    "    accuracy = cross_val_score(clf, features, target, cv=10, scoring=\"accuracy\")\n",
    "    accuracy_scores.append(accuracy.mean())\n",
    "    f1 = cross_val_score(clf, features, target, cv=10, scoring=\"f1\")\n",
    "    f1_scores.append(f1.mean())"
   ]
  },
  {
   "cell_type": "code",
   "execution_count": 80,
   "metadata": {},
   "outputs": [
    {
     "data": {
      "image/png": "[encoded data removed]",
      "text/plain": [
       "<Figure size 432x288 with 1 Axes>"
      ]
     },
     "metadata": {
      "needs_background": "light"
     },
     "output_type": "display_data"
    }
   ],
   "source": [
    "fig, ax = plt.subplots(1,figsize=(6,4))\n",
    "\n",
    "ax.plot(learning_rates, precision_scores, label=\"Precision\")\n",
    "ax.plot(learning_rates, recalls_scores, label=\"Recall\")\n",
    "ax.plot(learning_rates, accuracy_scores, label=\"Accuracy\")\n",
    "ax.plot(learning_rates, f1_scores, label=\"F1_scores\")\n",
    "\n",
    "ax.set_ylabel(\"Score value\")\n",
    "ax.set_xlabel(\"Learning rate\")\n",
    "ax.legend()\n",
    "\n",
    "fig.tight_layout()"
   ]
  },
  {
   "cell_type": "markdown",
   "metadata": {},
   "source": [
    "Here we see that the best performance is obtained for the learning rate = 1 (by default). Note that there exists obviously a trade-off between learning_rate and n_estimators."
   ]
  },
  {
   "cell_type": "markdown",
   "metadata": {},
   "source": [
    "### 5) Comparing the models: ROC curves"
   ]
  },
  {
   "cell_type": "markdown",
   "metadata": {},
   "source": [
    "Now that we have tuned our AdaBoostClassifier, we will compare its performances to the other classifiers using ROC curves"
   ]
  },
  {
   "cell_type": "code",
   "execution_count": 74,
   "metadata": {},
   "outputs": [],
   "source": [
    "nt = 110 #tuned\n",
    "AdaBoostmodel = AdaBoostClassifier(base_estimator= DecisionTreeClassifier(max_depth=8), n_estimators=nt, random_state = 0)"
   ]
  },
  {
   "cell_type": "markdown",
   "metadata": {},
   "source": [
    "We will first make target predictions using cross-validation."
   ]
  },
  {
   "cell_type": "code",
   "execution_count": 75,
   "metadata": {},
   "outputs": [],
   "source": [
    "target_prediction_AdaBoostmodel = cross_val_predict(AdaBoostmodel, features, target, cv = 10, method=\"predict_proba\")"
   ]
  },
  {
   "cell_type": "markdown",
   "metadata": {},
   "source": [
    "Then use the result to compute its ROC curve:"
   ]
  },
  {
   "cell_type": "code",
   "execution_count": 76,
   "metadata": {},
   "outputs": [],
   "source": [
    "FPR_AdaBoostmodel, TPR_AdaBoostmodel, thresholds = roc_curve(target, target_prediction_AdaBoostmodel[:, 1])"
   ]
  },
  {
   "cell_type": "markdown",
   "metadata": {},
   "source": [
    "We will also compute its AUC score:"
   ]
  },
  {
   "cell_type": "code",
   "execution_count": 77,
   "metadata": {},
   "outputs": [],
   "source": [
    "AUC_AdaBoostmodel = auc(FPR_AdaBoostmodel, TPR_AdaBoostmodel)"
   ]
  },
  {
   "cell_type": "markdown",
   "metadata": {},
   "source": [
    "And now plot it:"
   ]
  },
  {
   "cell_type": "code",
   "execution_count": 78,
   "metadata": {},
   "outputs": [
    {
     "data": {
      "text/plain": [
       "Text(0.5, 1.0, 'AdaBoostClassifier ROC curve')"
      ]
     },
     "execution_count": 78,
     "metadata": {},
     "output_type": "execute_result"
    },
    {
     "data": {
      "image/png": "[encoded data removed]",
      "text/plain": [
       "<Figure size 432x288 with 1 Axes>"
      ]
     },
     "metadata": {
      "needs_background": "light"
     },
     "output_type": "display_data"
    }
   ],
   "source": [
    "plt.plot(FPR_AdaBoostmodel, TPR_AdaBoostmodel, label = \"AdaBoostClassifier {:.2f}\".format(AUC_AdaBoostmodel))\n",
    "plt.legend(frameon = False)\n",
    "plt.xlabel(\"False Positive Rate\", labelpad = 10)\n",
    "plt.ylabel(\"True Positive Rate\", labelpad = 10)\n",
    "plt.title(\"AdaBoostClassifier ROC curve\", pad = 15, fontweight = 'bold')"
   ]
  },
  {
   "cell_type": "markdown",
   "metadata": {},
   "source": [
    "Here is the Random Forest's ROC curve:\n",
    "\n",
    "<img src=\"./pictures/Random_forest_ROC_curve.png\" width=\"425\"/>"
   ]
  },
  {
   "cell_type": "markdown",
   "metadata": {},
   "source": [
    "As expected, our AdaBoostClassifier scores better than any of the Logistic Regression methods, but a bit worse than Random Forest."
   ]
  },
  {
   "cell_type": "code",
   "execution_count": null,
   "metadata": {},
   "outputs": [],
   "source": []
  }
 ],
 "metadata": {
  "kernelspec": {
   "display_name": "Python 3",
   "language": "python",
   "name": "python3"
  },
  "language_info": {
   "codemirror_mode": {
    "name": "ipython",
    "version": 3
   },
   "file_extension": ".py",
   "mimetype": "text/x-python",
   "name": "python",
   "nbconvert_exporter": "python",
   "pygments_lexer": "ipython3",
   "version": "3.8.5"
  }
 },
 "nbformat": 4,
 "nbformat_minor": 4
}
