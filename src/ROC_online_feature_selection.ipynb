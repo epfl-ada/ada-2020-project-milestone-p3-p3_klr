{
 "cells": [
  {
   "cell_type": "markdown",
   "metadata": {},
   "source": [
    "# Online Feature selection for all models\n",
    "\n",
    "### Importing Libraries"
   ]
  },
  {
   "cell_type": "code",
   "execution_count": 1,
   "metadata": {},
   "outputs": [],
   "source": [
    "import pickle\n",
    "import matplotlib.pyplot as plt\n",
    "import pandas as pd\n",
    "import numpy as np\n",
    "\n",
    "from sklearn.pipeline import Pipeline\n",
    "from sklearn.ensemble import AdaBoostClassifier\n",
    "from sklearn.tree import DecisionTreeClassifier\n",
    "from sklearn.metrics import roc_curve, auc\n",
    "from sklearn.preprocessing import StandardScaler\n",
    "from sklearn.feature_selection import RFECV\n",
    "from sklearn.neighbors import KNeighborsClassifier\n",
    "from sklearn.svm import SVC\n",
    "\n",
    "from imblearn.ensemble import BalancedRandomForestClassifier # pip install imblearn - scikit wrapper\n",
    "\n",
    "\n",
    "from helpers import load_data, roc_plt"
   ]
  },
  {
   "cell_type": "markdown",
   "metadata": {},
   "source": [
    "### Importing data"
   ]
  },
  {
   "cell_type": "code",
   "execution_count": 2,
   "metadata": {},
   "outputs": [],
   "source": [
    "##load the data \n",
    "\n",
    "DATA_PATH = '../data/'\n",
    "PICKLE_PATH = '../pickles/'\n",
    "seed = 7\n",
    "\n",
    "master_data = load_data(DATA_PATH)\n",
    "X, y = master_data['muchlinski']"
   ]
  },
  {
   "cell_type": "code",
   "execution_count": 3,
   "metadata": {},
   "outputs": [],
   "source": [
    "def get_params(method):\n",
    "    file = \"gs_rocauc_\" + method +\"_all.pkl\"\n",
    "    with open(PICKLE_PATH + file, \"rb\") as f:\n",
    "        params = pickle.load(f)\n",
    "        params = params.drop('roc_auc',axis=1).iloc[0].to_dict()\n",
    "    return params\n",
    "\n",
    "def save_pkl(object_, file):\n",
    "    with open(PICKLE_PATH + file + \".pkl\", \"wb\") as f:\n",
    "        pickle.dump(object_, f, pickle.HIGHEST_PROTOCOL)"
   ]
  },
  {
   "cell_type": "markdown",
   "metadata": {},
   "source": [
    "### Creating the models"
   ]
  },
  {
   "cell_type": "code",
   "execution_count": 4,
   "metadata": {},
   "outputs": [],
   "source": [
    "params_brf = get_params(\"brf\")\n",
    "params_bdt = get_params(\"bdt\")\n",
    "params_knn = get_params(\"knn\")\n",
    "params_svm = get_params(\"svm\")\n",
    "\n",
    "BRF = BalancedRandomForestClassifier(random_state = 0)\n",
    "KNN = KNeighborsClassifier()\n",
    "SVM = SVC(random_state = 0)\n",
    "BDT = AdaBoostClassifier(base_estimator = DecisionTreeClassifier(), random_state = 0)\n",
    "\n",
    "BRF.set_params(**params_brf)\n",
    "KNN.set_params(**params_knn)\n",
    "SVM.set_params(**params_svm)\n",
    "BDT.set_params(**params_bdt)\n",
    "\n",
    "STD = StandardScaler()"
   ]
  },
  {
   "cell_type": "markdown",
   "metadata": {},
   "source": [
    "### Retrieving best features using RFE (Recursive Feature Elimination)"
   ]
  },
  {
   "cell_type": "code",
   "execution_count": 5,
   "metadata": {},
   "outputs": [],
   "source": [
    "clf_feature_sele = BalancedRandomForestClassifier(n_estimators=500, class_weight={0:1,1:8}, max_depth=7) # used best params from cv in other notebook (saved in gs_rocauc_brf_all.pkl)\n",
    "RFE = RFECV(clf_feature_sele, step=1, scoring='roc_auc')"
   ]
  },
  {
   "cell_type": "markdown",
   "metadata": {},
   "source": [
    "### Creating the pipelines"
   ]
  },
  {
   "cell_type": "code",
   "execution_count": 6,
   "metadata": {},
   "outputs": [],
   "source": [
    "pipe_BRF = Pipeline([('std',STD),('rfe',RFE),('clf',BRF)])\n",
    "pipe_KNN = Pipeline([('std',STD),('rfe',RFE),('clf',KNN)])\n",
    "pipe_SVM = Pipeline([('std',STD),('rfe',RFE),('clf',SVM)])\n",
    "pipe_BDT = Pipeline([('std',STD),('rfe',RFE),('clf',BDT)])"
   ]
  },
  {
   "cell_type": "markdown",
   "metadata": {},
   "source": [
    "### Plottings"
   ]
  },
  {
   "cell_type": "code",
   "execution_count": null,
   "metadata": {},
   "outputs": [],
   "source": [
    "brf_res = roc_plt(X, y, pipe_BRF, \"Balanced Random Forest ROC-AUC\", seed=seed, create_plot=True)\n",
    "save_pkl(brf_res, \"brf_res\")"
   ]
  },
  {
   "cell_type": "code",
   "execution_count": null,
   "metadata": {},
   "outputs": [],
   "source": [
    "knn_res = roc_plt(X, y, pipe_KNN, \"KNN ROC-AUC\", seed=seed, create_plot=True)\n",
    "save_pkl(knn_res, \"knn_res\")"
   ]
  },
  {
   "cell_type": "code",
   "execution_count": null,
   "metadata": {},
   "outputs": [],
   "source": [
    "svm_res = roc_plt(X, y, pipe_SVM, \"SVM ROC-AUC\", seed=seed, create_plot=True)\n",
    "save_pkl(svm_res, \"svm_res\")"
   ]
  },
  {
   "cell_type": "code",
   "execution_count": null,
   "metadata": {},
   "outputs": [],
   "source": [
    "bdt_res = roc_plt(X, y, pipe_BDT, \"Boosted Decision Tree ROC-AUC\", seed=seed, create_plot=True)\n",
    "save_pkl(bdt_res, \"bdt_res\")"
   ]
  }
 ],
 "metadata": {
  "kernelspec": {
   "display_name": "Python [conda env:ada] *",
   "language": "python",
   "name": "conda-env-ada-py"
  },
  "language_info": {
   "codemirror_mode": {
    "name": "ipython",
    "version": 3
   },
   "file_extension": ".py",
   "mimetype": "text/x-python",
   "name": "python",
   "nbconvert_exporter": "python",
   "pygments_lexer": "ipython3",
   "version": "3.8.5"
  }
 },
 "nbformat": 4,
 "nbformat_minor": 4
}
