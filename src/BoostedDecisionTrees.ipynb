{
 "cells": [
  {
   "cell_type": "markdown",
   "metadata": {},
   "source": [
    "## Things to implement: \n",
    "\n",
    "- Chi squared offline feature selection [here](https://docs.google.com/presentation/d/1kdqs7pAWWmFbHszl2N6Km-2X7nujMcMH5bu_g9ZGNWQ/edit#slide=id.g190c813b98_3_511)\n",
    "- Online feature selection [here](https://docs.google.com/presentation/d/1kdqs7pAWWmFbHszl2N6Km-2X7nujMcMH5bu_g9ZGNWQ/edit#slide=id.g190c813b98_3_511)\n",
    "- NN\n",
    "- SVM \n",
    "- BDT"
   ]
  },
  {
   "cell_type": "markdown",
   "metadata": {},
   "source": [
    "# Milestone P4: Team KLR - Extending the comparison of classification models for rare civil war onsets\n",
    "\n",
    "This notebook serves as an extension of Comparing Random Forest with Logistic Regression for Predicting Class-Imbalanced Civil War Onset Data by Muchlinski David, Siroky David, He Jingrui & Kocher Matthew (2016). In similar fashion as Muchlinski et al., 2016, we aim to contribute to the insofar discarded predictive statistical methods in political science, in favor of accurately predicting significant events such as civil wars. To this end, Muchlinski et al., 2016's approach of comparing experimental performance of algorithmic maneuveurs via a multitude of metrics is adopted. However, in contrast with only using Random Forest and near-arbitrarily selecting features, we attempt in our paper to explore and implement additional feature-selection and classification methods through rigorous incorporation of boosting, and a variety of classification algorithms, as well as on and offline feature selection, which benefit an extended, deepened comparison and discussion surrounding not only this imbalanced prediction task, but also the causal estimation of features. While indeed from Muchlinski et al., 2016, it seems that Random Forests drastically outperform their determined competitor in all metrics employed, nuance of their strengths and weaknesses in contrast with more suited models remains uninvestigated, providing justification for extending this analysis.\n",
    "\n",
    "First, we implement on-and-offline feature selection methods building on Muchlisnki' et al's comparison of Fearon and Latin (2003), Collier and Hoeffler (2004), and Hegre and Sambanis (2006). From which we would like to uncover how feature selection methods serve to aid model performance. The .txt file `notes.txt` contains which variables were used originally by Fearon and Latin (2003), Collier and Hoeffler (2004), and Hegre and Sambanis (2006). We first retrieve these and later compare performance with and without arbitrary feature selection. "
   ]
  },
  {
   "cell_type": "code",
   "execution_count": 1,
   "metadata": {},
   "outputs": [
    {
     "name": "stdout",
     "output_type": "stream",
     "text": [
      "The main dataset you have to use is `SambnisImp.csv`.\r\n",
      "Additionally, the provided `Sambanis Codebook.pdf` file contains a textual\r\n",
      "description of (most) used variables.\r\n",
      "\r\n",
      "---\r\n",
      "\r\n",
      "When loading the data for replication purposes, note that the authors only\r\n",
      "load the following 91 variables:\r\n",
      "\r\n",
      "    \"warstds\", \"ager\", \"agexp\", \"anoc\", \"army85\", \"autch98\", \"auto4\",\r\n",
      "    \"autonomy\", \"avgnabo\", \"centpol3\", \"coldwar\", \"decade1\", \"decade2\",\r\n",
      "    \"decade3\", \"decade4\", \"dem\", \"dem4\", \"demch98\", \"dlang\", \"drel\", \"durable\",\r\n",
      "    \"ef\", \"ef2\", \"ehet\", \"elfo\", \"elfo2\", \"etdo4590\", \"expgdp\", \"exrec\",\r\n",
      "    \"fedpol3\", \"fuelexp\", \"gdpgrowth\", \"geo1\", \"geo2\", \"geo34\", \"geo57\",\r\n",
      "    \"geo69\", \"geo8\", \"illiteracy\", \"incumb\", \"infant\", \"inst\", \"inst3\", \"life\",\r\n",
      "    \"lmtnest\", \"ln_gdpen\", \"lpopns\", \"major\", \"manuexp\", \"milper\", \"mirps0\",\r\n",
      "    \"mirps1\", \"mirps2\", \"mirps3\", \"nat_war\", \"ncontig\", \"nmgdp\", \"nmdp4_alt\",\r\n",
      "    \"numlang\", \"nwstate\", \"oil\", \"p4mchg\", \"parcomp\", \"parreg\", \"part\",\r\n",
      "    \"partfree\", \"plural\", \"plurrel\", \"pol4\", \"pol4m\", \"pol4sq\", \"polch98\",\r\n",
      "    \"polcomp\", \"popdense\", \"presi\", \"pri\", \"proxregc\", \"ptime\", \"reg\",\r\n",
      "    \"regd4_alt\", \"relfrac\", \"seceduc\", \"second\", \"semipol3\", \"sip2\", \"sxpnew\",\r\n",
      "    \"sxpsq\", \"tnatwar\", \"trade\", \"warhist\", \"xconst\"\r\n",
      "\r\n",
      "(For later tasks or for your own curiosity, it might make sense to leverage the rest of the data as well!)\r\n",
      "\r\n",
      "---\r\n",
      "\r\n",
      "The 3 logistic regression models the authors replicate in their paper, and that\r\n",
      "you will have to replicate as well, make use of the following features to\r\n",
      "predict the target:\r\n",
      "\r\n",
      "- Fearon and Laitin (2003): \"warhist\", \"ln_gdpen\", \"lpopns\", \"lmtnest\",\r\n",
      "    \"ncontig\", \"oil\", \"nwstate\", \"inst3\", \"pol4\", \"ef\", \"relfrac\".\r\n",
      "\r\n",
      "- Collier and Hoeffler (2004): \"sxpnew\", \"sxpsq\", \"ln_gdpen\", \"gdpgrowth\",\r\n",
      "    \"warhist\", \"lmtnest\", \"ef\", \"popdense\", \"lpopns\", \"coldwar\", \"seceduc\",\r\n",
      "    \"ptime\".\r\n",
      "\r\n",
      "- Hegre and Sambanis (2006): \"lpopns\", \"ln_gdpen\", \"inst3\", \"parreg\", \"geo34\",\r\n",
      "    \"proxregc\", \"gdpgrowth\", \"anoc\", \"partfree\", \"nat_war\", \"lmtnest\",\r\n",
      "    \"decade1\", \"pol4sq\", \"nwstate\", \"regd4_alt\", \"etdo4590\", \"milper\", \"geo1\",\r\n",
      "    \"tnatwar\", \"presi\".\r\n",
      "\r\n"
     ]
    }
   ],
   "source": [
    "!cat './data/notes.txt'"
   ]
  },
  {
   "cell_type": "code",
   "execution_count": 2,
   "metadata": {},
   "outputs": [],
   "source": [
    "# import necessary libraries, define data path, and other hard-coded variables\n",
    "import seaborn as sns\n",
    "import matplotlib.pyplot as plt\n",
    "import pandas as pd\n",
    "import numpy as np\n",
    "import re\n",
    "from sklearn.linear_model import LogisticRegression, LogisticRegressionCV\n",
    "from sklearn.ensemble import RandomForestClassifier\n",
    "from sklearn.metrics import roc_curve, auc, f1_score\n",
    "from sklearn.model_selection import cross_val_predict, cross_val_score\n",
    "from sklearn.preprocessing import StandardScaler\n",
    "from sklearn.pipeline import make_pipeline\n",
    "from imblearn.ensemble import BalancedRandomForestClassifier # pip install imblearn - scikit wrapper\n",
    "\n",
    "DATA_PATH = './data/'\n",
    "seed = 7\n",
    "\n",
    "# Extract features used in each paper from notes.txt \n",
    "with open(DATA_PATH+'notes.txt') as f:\n",
    "    \n",
    "    task_notes = f.readlines()\n",
    "    task_notes = ''.join(task_notes)\n",
    "    \n",
    "    fl_feature_names = re.search(r'(?<=Fearon and Laitin \\(2003\\):)[^.\\.]*',task_notes).group()\n",
    "    fl_feature_names = re.sub('\\n|\\s|\\\"','',fl_feature_names).split(',')\n",
    "    \n",
    "    ch_feature_names = re.search(r'(?<=Collier and Hoeffler \\(2004\\):)[^.\\.]*',task_notes).group()\n",
    "    ch_feature_names = re.sub('\\n|\\s|\\\"','',ch_feature_names).split(',')\n",
    "\n",
    "    hs_feature_names = re.search(r'(?<=Hegre and Sambanis \\(2006\\):)[^.\\.]*',task_notes).group()\n",
    "    hs_feature_names = re.sub('\\n|\\s|\\\"','',hs_feature_names).split(',')\n",
    "    \n",
    "    auth_features = re.search(r'(?<=91 variables:)[^.\\(]*',task_notes).group()\n",
    "    auth_features = re.sub('\\n|\\s|\\\"','',auth_features).split(',')\n",
    "    \n",
    "# load data\n",
    "master_data = pd.read_csv(DATA_PATH+'SambnisImp.csv', index_col='X')\n",
    "\n",
    "# split data into features used for each paper and retrieve regressand \n",
    "y_master = master_data['warstds']\n",
    "\n",
    "fl_x = master_data[fl_feature_names]\n",
    "ch_x = master_data[ch_feature_names]\n",
    "hs_x = master_data[hs_feature_names]\n",
    "auth_x = master_data[auth_features]"
   ]
  },
  {
   "cell_type": "code",
   "execution_count": 2,
   "metadata": {},
   "outputs": [],
   "source": [
    "def compute_roc_vals(X, y, pipeline):\n",
    "    \n",
    "    # set seed and ensure input are numpy arrays\n",
    "    np.random.seed(seed)\n",
    "    X, y = X.to_numpy(), y.to_numpy()\n",
    "    \n",
    "    # If logistic regression, compute best regularization weight and set it\n",
    "    if 'logisticregression' in pipeline.named_steps:\n",
    "    \n",
    "        n_grid_search = 5\n",
    "        r_lambda = LogisticRegressionCV(Cs = n_grid_search, cv=10, max_iter=10000, scoring='roc_auc', random_state = seed).fit(X, y)\n",
    "        pipeline['logisticregression'].set_params(C = r_lambda.C_[0], random_state = seed)\n",
    "        \n",
    "        # Predict the probabilities with a cross validation\n",
    "        y_pred = cross_val_predict(pipeline, X, y, cv=10, method='predict_proba')[:,1]\n",
    "        \n",
    "        \n",
    "    if 'randomforestclassifier' or 'balancedrandomforestclassifier' in pipeline.named_steps:\n",
    "        \n",
    "        y_pred = cross_val_predict(pipeline, X, y, cv=10, method='predict_proba')[:,1]\n",
    "    \n",
    "    if 'svc' in pipeline.named_steps:\n",
    "        \n",
    "        pass\n",
    "        #y_pred = cross_val_predict(pipeline, X, y, cv=10, method='predict')\n",
    "    \n",
    "    # Compute the False Positive Rate and True Positive Rate\n",
    "    fpr, tpr, _ = roc_curve(y, y_pred)\n",
    "    # Compute the area under the fpr-tpr curve\n",
    "    auc_score = auc(fpr, tpr)\n",
    "    # Compute f1 score\n",
    "    f1 = f1_score(y, (y_pred > 0.5).astype(int)) # how do they get figure 3? i get f1 scores of 0 because the model doesnt predict any civil war onsets..\n",
    "    \n",
    "    return fpr, tpr, auc_score, f1\n",
    "\n",
    "# rewrite this function with seaborn\n",
    "def roc_plt(fpr, tpr, auc_score):\n",
    "    plt.plot(fpr, tpr)\n",
    "    plt.plot([0, 1], [0, 1],'r--')\n",
    "    plt.xlabel(\"False Positive Rate\")\n",
    "    plt.ylabel(\"True Positive Rate\")\n",
    "    plt.title(\"ROC Curve - Area = {:.2f}\".format(round(auc_score,2)))\n",
    "    plt.show()\n",
    "    \n",
    "roc_vals={}"
   ]
  },
  {
   "cell_type": "markdown",
   "metadata": {},
   "source": [
    "First we reproduce the plots from the authors as follows, (can remove later if unnecessary/undesired) - I also dont know how they get f1 scores from these logistic models, given that the f1 score is 0 for multiple of them.."
   ]
  },
  {
   "cell_type": "code",
   "execution_count": 3,
   "metadata": {},
   "outputs": [
    {
     "data": {
      "image/png": "[encoded data removed]",
      "text/plain": [
       "<Figure size 432x288 with 1 Axes>"
      ]
     },
     "metadata": {
      "needs_background": "light"
     },
     "output_type": "display_data"
    },
    {
     "data": {
      "image/png": "[encoded data removed]",
      "text/plain": [
       "<Figure size 432x288 with 1 Axes>"
      ]
     },
     "metadata": {
      "needs_background": "light"
     },
     "output_type": "display_data"
    },
    {
     "data": {
      "image/png": "[encoded data removed]",
      "text/plain": [
       "<Figure size 432x288 with 1 Axes>"
      ]
     },
     "metadata": {
      "needs_background": "light"
     },
     "output_type": "display_data"
    },
    {
     "data": {
      "image/png": "[encoded data removed]",
      "text/plain": [
       "<Figure size 432x288 with 1 Axes>"
      ]
     },
     "metadata": {
      "needs_background": "light"
     },
     "output_type": "display_data"
    }
   ],
   "source": [
    "# roc plots for logistic models\n",
    "log_pipeline = make_pipeline(StandardScaler(), LogisticRegression(max_iter=10000, penalty='l2'))\n",
    "\n",
    "roc_vals['log_fl'] = compute_roc_vals(fl_x, y_master, log_pipeline)\n",
    "roc_vals['log_ch'] = compute_roc_vals(ch_x, y_master, log_pipeline)\n",
    "roc_vals['log_hs'] = compute_roc_vals(hs_x, y_master, log_pipeline)\n",
    "roc_vals['log_auth'] = compute_roc_vals(auth_x, y_master, log_pipeline)\n",
    "roc_plt(*roc_vals['log_fl'][:3])\n",
    "roc_plt(*roc_vals['log_ch'][:3])\n",
    "roc_plt(*roc_vals['log_hs'][:3])\n",
    "roc_plt(*roc_vals['log_auth'][:3])"
   ]
  },
  {
   "cell_type": "markdown",
   "metadata": {},
   "source": [
    "Interestingly, it seems that the noise from the inclusion of all the variables does not allow the Logistic Model to increase AUC score. The noise is poorly dealt with by the logistic model. Does the RF suffer from the same problem?"
   ]
  },
  {
   "cell_type": "code",
   "execution_count": 10,
   "metadata": {},
   "outputs": [
    {
     "data": {
      "image/png": "[encoded data removed]",
      "text/plain": [
       "<Figure size 432x288 with 1 Axes>"
      ]
     },
     "metadata": {
      "needs_background": "light"
     },
     "output_type": "display_data"
    },
    {
     "data": {
      "image/png": "[encoded data removed]",
      "text/plain": [
       "<Figure size 432x288 with 1 Axes>"
      ]
     },
     "metadata": {
      "needs_background": "light"
     },
     "output_type": "display_data"
    }
   ],
   "source": [
    "n_trees = 1000\n",
    "rf_pipeline = make_pipeline(StandardScaler(), RandomForestClassifier(n_estimators=n_trees))\n",
    "# roc plots for rf without downsampling - fearon laitin variables\n",
    "roc_vals['rf_fl'] = compute_roc_vals(fl_x, y_master, rf_pipeline)\n",
    "# roc plots for rf without downsampling - all 90 variables the authors load\n",
    "roc_vals['rf_auth'] = compute_roc_vals(auth_x, y_master, rf_pipeline)\n",
    "roc_plt(*roc_vals['rf_fl'][:3])\n",
    "roc_plt(*roc_vals['rf_auth'][:3])"
   ]
  },
  {
   "cell_type": "code",
   "execution_count": 11,
   "metadata": {},
   "outputs": [
    {
     "data": {
      "image/png": "[encoded data removed]",
      "text/plain": [
       "<Figure size 432x288 with 1 Axes>"
      ]
     },
     "metadata": {
      "needs_background": "light"
     },
     "output_type": "display_data"
    }
   ],
   "source": [
    "# roc plots for rf with downsampling - all 90 variables the authors load\n",
    "down_sample_ratio = 1/2\n",
    "brf_pipeline = make_pipeline(StandardScaler(), BalancedRandomForestClassifier(n_estimators=1000, sampling_strategy = down_sample_ratio))\n",
    "roc_vals['brf'] = compute_roc_vals(auth_x, y_master, brf_pipeline)\n",
    "roc_plt(*roc_vals['brf'][:3])"
   ]
  },
  {
   "cell_type": "markdown",
   "metadata": {},
   "source": [
    "It seems, in fact, that the dataset is simple enough for an AUC score of 1 with barely any hyperparameter optimization, begging the question of which variables the authors' used and how they concluded with a marginally lower AUC score of 0.90. However, this is a first illustration of the ability of the RF to deal with class imbalanced data and steadily deal with the noise unlike the logistic models. Therefore, pinning the importance of feature selection in more simplistic models which cannot filter through the noise. We move on to more suited models (Support vector machines (if this one doesnt work well we can move on to another model), Boosted Decision Trees, and Neural Networks). "
   ]
  },
  {
   "cell_type": "markdown",
   "metadata": {},
   "source": [
    "## II SVM "
   ]
  },
  {
   "cell_type": "code",
   "execution_count": 3,
   "metadata": {},
   "outputs": [],
   "source": [
    "from sklearn.metrics import plot_precision_recall_curve\n",
    "from sklearn.metrics import plot_roc_curve\n",
    "from sklearn.svm import SVC\n",
    "from sklearn.model_selection import train_test_split"
   ]
  },
  {
   "cell_type": "code",
   "execution_count": 21,
   "metadata": {},
   "outputs": [
    {
     "data": {
      "image/png": "[encoded data removed]",
      "text/plain": [
       "<Figure size 432x288 with 1 Axes>"
      ]
     },
     "metadata": {
      "needs_background": "light"
     },
     "output_type": "display_data"
    }
   ],
   "source": [
    "class_weight = {0:1, 1:50}\n",
    "penalty = .01 # technically inverse of regularization\n",
    "kernel = 'poly' #possible: linear, poly, rbf, sigmoid, precomputed \n",
    "seed = 0\n",
    "\n",
    "# working auc roc for svm - can harmonize it with the rest of the notebook once i know how you guys want to approach this\n",
    "X_train, X_test, y_train, y_test = train_test_split(auth_x, y_master, random_state=seed)\n",
    "clf = SVC(random_state=0, class_weight=class_weight, C=penalty, kernel=kernel)\n",
    "# when i scale i get auc = 1 - does this make sense?\n",
    "#scaler = StandardScaler()\n",
    "#X_train = scaler.fit_transform(X_train)\n",
    "#X_test = scaler.transform(X_test)\n",
    "clf.fit(X_train, y_train)\n",
    "SVC(random_state=seed)\n",
    "plot_roc_curve(clf, X_test, y_test)  \n",
    "plt.show()                                   "
   ]
  },
  {
   "cell_type": "markdown",
   "metadata": {},
   "source": [
    "## III Boosted Decision Trees"
   ]
  },
  {
   "cell_type": "markdown",
   "metadata": {},
   "source": [
    "Random Forest and Boosted Decision Trees both are based on Decision Trees to make predictions. However, Random Forest uses **Bagging**, which relies on training learners in parallel on different samples of the data and then combining by voting (discrete output) or by averaging (continuous output). It is really easy to implement and to parallelize (and therefore one of the most popular classifier for dense data). Whereas Boosted Decision Trees uses **Boosting**, which relies on training learner again, but after filtering/weighting samples based on output of previous train/test runs. In contrast to Random Forest, here the trees are trained independently as they are trained sequentially by boosting (meaning that each tree is trained to predict error residuals of previous trees). This technic allows to reduce the bias.\n",
    "\n",
    "After many researches on the internet [citation needed](citationlink), we found that actually **Random Forest is not really suited for classification problems with a skewed class distribution**. However, according to the literature [citation needed](citationlink), Boosted Decision Trees seems less sensitive to such imbalanced dataset. This is why we will implement it and test this hypothesis."
   ]
  },
  {
   "cell_type": "markdown",
   "metadata": {},
   "source": [
    "### 1) Kind of Boosted Decision Trees?\n",
    "\n",
    "`sklearn` offers such a Boosting Decision Trees classifier: `AdaBoostClassifer`. \n",
    "\n",
    "Here is a bit of knowledge about AdaBoost : \"The core principle of AdaBoost is to **fit a sequence of weak learners** (i.e., models that are only slightly better than random guessing, such as small decision trees) on repeatedly modified versions of the data. The predictions from all of them are then combined through a **weighted majority vote** (or sum) to produce the final prediction. The data modifications at each so-called **boosting iteration consist of applying weights $w_i$ to each of the training samples**. Initially, those weights are all set to $w_i = 1/N$ so that the first step simply trains a weak learner on the original data. For each successive iteration, the sample weights are individually modified and the learning algorithm is reapplied to the reweighted data. At a given step, **those training examples that were incorrectly predicted by the boosted model induced at the previous step have their weights increased, whereas the weights are decreased for those that were predicted correctly**. As iterations proceed, **examples that are difficult to predict receive ever-increasing influence**. Each subsequent weak learner is thereby forced to concentrate on the examples that are missed by the previous ones in the sequence\""
   ]
  },
  {
   "cell_type": "markdown",
   "metadata": {},
   "source": [
    "With this, we understand clearly here why this kind of Boosted Decision Trees has better chance to handle imbalanced dataset. Civil War Onsets being really rare and hard to predict events, it will receive an ever-increasing influence through the weights until it balances out the fact that they are rare in the dataset. This why, we can hope that the model will be better suited (than RF) to predict these kind of events as it will be forced to concentrate on these hard to detected (because rare) events missed by the previous trees."
   ]
  },
  {
   "cell_type": "markdown",
   "metadata": {},
   "source": [
    "### 2) Libraries"
   ]
  },
  {
   "cell_type": "code",
   "execution_count": 3,
   "metadata": {},
   "outputs": [],
   "source": [
    "from sklearn.ensemble import AdaBoostClassifier\n",
    "from sklearn.tree import DecisionTreeClassifier"
   ]
  },
  {
   "cell_type": "markdown",
   "metadata": {},
   "source": [
    "### 3) Pre-processing"
   ]
  },
  {
   "cell_type": "code",
   "execution_count": 4,
   "metadata": {},
   "outputs": [],
   "source": [
    "##load the data \n",
    "\n",
    "target = auth_x['warstds']\n",
    "features = auth_x.drop('warstds', axis = 1)"
   ]
  },
  {
   "cell_type": "code",
   "execution_count": 5,
   "metadata": {},
   "outputs": [
    {
     "data": {
      "text/html": [
       "<div>\n",
       "<style scoped>\n",
       "    .dataframe tbody tr th:only-of-type {\n",
       "        vertical-align: middle;\n",
       "    }\n",
       "\n",
       "    .dataframe tbody tr th {\n",
       "        vertical-align: top;\n",
       "    }\n",
       "\n",
       "    .dataframe thead th {\n",
       "        text-align: right;\n",
       "    }\n",
       "</style>\n",
       "<table border=\"1\" class=\"dataframe\">\n",
       "  <thead>\n",
       "    <tr style=\"text-align: right;\">\n",
       "      <th></th>\n",
       "      <th>ager</th>\n",
       "      <th>agexp</th>\n",
       "      <th>anoc</th>\n",
       "      <th>army85</th>\n",
       "      <th>autch98</th>\n",
       "      <th>auto4</th>\n",
       "      <th>autonomy</th>\n",
       "      <th>avgnabo</th>\n",
       "      <th>centpol3</th>\n",
       "      <th>coldwar</th>\n",
       "      <th>...</th>\n",
       "      <th>seceduc</th>\n",
       "      <th>second</th>\n",
       "      <th>semipol3</th>\n",
       "      <th>sip2</th>\n",
       "      <th>sxpnew</th>\n",
       "      <th>sxpsq</th>\n",
       "      <th>tnatwar</th>\n",
       "      <th>trade</th>\n",
       "      <th>warhist</th>\n",
       "      <th>xconst</th>\n",
       "    </tr>\n",
       "    <tr>\n",
       "      <th>X</th>\n",
       "      <th></th>\n",
       "      <th></th>\n",
       "      <th></th>\n",
       "      <th></th>\n",
       "      <th></th>\n",
       "      <th></th>\n",
       "      <th></th>\n",
       "      <th></th>\n",
       "      <th></th>\n",
       "      <th></th>\n",
       "      <th></th>\n",
       "      <th></th>\n",
       "      <th></th>\n",
       "      <th></th>\n",
       "      <th></th>\n",
       "      <th></th>\n",
       "      <th></th>\n",
       "      <th></th>\n",
       "      <th></th>\n",
       "      <th></th>\n",
       "      <th></th>\n",
       "    </tr>\n",
       "  </thead>\n",
       "  <tbody>\n",
       "    <tr>\n",
       "      <th>1</th>\n",
       "      <td>0.011565</td>\n",
       "      <td>-0.075864</td>\n",
       "      <td>-0.503682</td>\n",
       "      <td>-0.097323</td>\n",
       "      <td>0.016433</td>\n",
       "      <td>-0.005731</td>\n",
       "      <td>-0.018215</td>\n",
       "      <td>-0.053497</td>\n",
       "      <td>0.411715</td>\n",
       "      <td>0.556820</td>\n",
       "      <td>...</td>\n",
       "      <td>0.076855</td>\n",
       "      <td>0.919162</td>\n",
       "      <td>-0.007550</td>\n",
       "      <td>0.026881</td>\n",
       "      <td>0.094095</td>\n",
       "      <td>0.052437</td>\n",
       "      <td>-0.139284</td>\n",
       "      <td>0.107157</td>\n",
       "      <td>-0.454154</td>\n",
       "      <td>0.033310</td>\n",
       "    </tr>\n",
       "    <tr>\n",
       "      <th>2</th>\n",
       "      <td>0.008046</td>\n",
       "      <td>-0.079254</td>\n",
       "      <td>-0.503682</td>\n",
       "      <td>-0.097473</td>\n",
       "      <td>0.016433</td>\n",
       "      <td>1.775804</td>\n",
       "      <td>-0.082597</td>\n",
       "      <td>-1.315951</td>\n",
       "      <td>0.411715</td>\n",
       "      <td>0.556820</td>\n",
       "      <td>...</td>\n",
       "      <td>0.069821</td>\n",
       "      <td>0.919162</td>\n",
       "      <td>-0.287012</td>\n",
       "      <td>-1.219573</td>\n",
       "      <td>0.094547</td>\n",
       "      <td>0.049137</td>\n",
       "      <td>0.509491</td>\n",
       "      <td>0.107596</td>\n",
       "      <td>-0.454154</td>\n",
       "      <td>-1.298861</td>\n",
       "    </tr>\n",
       "    <tr>\n",
       "      <th>3</th>\n",
       "      <td>1.308743</td>\n",
       "      <td>-0.079039</td>\n",
       "      <td>-0.503682</td>\n",
       "      <td>-0.094927</td>\n",
       "      <td>0.016433</td>\n",
       "      <td>1.775804</td>\n",
       "      <td>-0.082597</td>\n",
       "      <td>-1.364826</td>\n",
       "      <td>0.411715</td>\n",
       "      <td>0.556820</td>\n",
       "      <td>...</td>\n",
       "      <td>0.067881</td>\n",
       "      <td>0.919162</td>\n",
       "      <td>-0.287012</td>\n",
       "      <td>-1.219573</td>\n",
       "      <td>0.095567</td>\n",
       "      <td>0.051447</td>\n",
       "      <td>1.674799</td>\n",
       "      <td>0.109070</td>\n",
       "      <td>-0.454154</td>\n",
       "      <td>-1.298861</td>\n",
       "    </tr>\n",
       "    <tr>\n",
       "      <th>4</th>\n",
       "      <td>1.339237</td>\n",
       "      <td>-0.082167</td>\n",
       "      <td>-0.503682</td>\n",
       "      <td>-0.104053</td>\n",
       "      <td>0.016433</td>\n",
       "      <td>1.775804</td>\n",
       "      <td>-0.082597</td>\n",
       "      <td>-1.389263</td>\n",
       "      <td>0.411715</td>\n",
       "      <td>0.556820</td>\n",
       "      <td>...</td>\n",
       "      <td>0.066018</td>\n",
       "      <td>0.919162</td>\n",
       "      <td>-0.287012</td>\n",
       "      <td>-1.219573</td>\n",
       "      <td>0.101303</td>\n",
       "      <td>0.051559</td>\n",
       "      <td>1.674799</td>\n",
       "      <td>0.112345</td>\n",
       "      <td>-0.454154</td>\n",
       "      <td>-1.298861</td>\n",
       "    </tr>\n",
       "    <tr>\n",
       "      <th>5</th>\n",
       "      <td>1.369731</td>\n",
       "      <td>-0.077000</td>\n",
       "      <td>-0.503682</td>\n",
       "      <td>-0.093556</td>\n",
       "      <td>0.016433</td>\n",
       "      <td>1.775804</td>\n",
       "      <td>-0.082597</td>\n",
       "      <td>-1.389263</td>\n",
       "      <td>0.411715</td>\n",
       "      <td>0.556820</td>\n",
       "      <td>...</td>\n",
       "      <td>0.070357</td>\n",
       "      <td>0.919162</td>\n",
       "      <td>-0.287012</td>\n",
       "      <td>-1.219573</td>\n",
       "      <td>0.092107</td>\n",
       "      <td>0.049569</td>\n",
       "      <td>1.674799</td>\n",
       "      <td>0.106430</td>\n",
       "      <td>-0.454154</td>\n",
       "      <td>-1.298861</td>\n",
       "    </tr>\n",
       "    <tr>\n",
       "      <th>...</th>\n",
       "      <td>...</td>\n",
       "      <td>...</td>\n",
       "      <td>...</td>\n",
       "      <td>...</td>\n",
       "      <td>...</td>\n",
       "      <td>...</td>\n",
       "      <td>...</td>\n",
       "      <td>...</td>\n",
       "      <td>...</td>\n",
       "      <td>...</td>\n",
       "      <td>...</td>\n",
       "      <td>...</td>\n",
       "      <td>...</td>\n",
       "      <td>...</td>\n",
       "      <td>...</td>\n",
       "      <td>...</td>\n",
       "      <td>...</td>\n",
       "      <td>...</td>\n",
       "      <td>...</td>\n",
       "      <td>...</td>\n",
       "      <td>...</td>\n",
       "    </tr>\n",
       "    <tr>\n",
       "      <th>9628</th>\n",
       "      <td>-0.093999</td>\n",
       "      <td>-0.262238</td>\n",
       "      <td>-0.503682</td>\n",
       "      <td>-0.306074</td>\n",
       "      <td>0.016433</td>\n",
       "      <td>0.602620</td>\n",
       "      <td>-0.082597</td>\n",
       "      <td>0.334757</td>\n",
       "      <td>0.411715</td>\n",
       "      <td>-1.795662</td>\n",
       "      <td>...</td>\n",
       "      <td>0.213322</td>\n",
       "      <td>0.415169</td>\n",
       "      <td>-0.007124</td>\n",
       "      <td>-0.254582</td>\n",
       "      <td>0.259141</td>\n",
       "      <td>-0.174152</td>\n",
       "      <td>-0.655817</td>\n",
       "      <td>0.250157</td>\n",
       "      <td>-0.454154</td>\n",
       "      <td>-0.409535</td>\n",
       "    </tr>\n",
       "    <tr>\n",
       "      <th>9629</th>\n",
       "      <td>-0.063505</td>\n",
       "      <td>-0.170693</td>\n",
       "      <td>-0.503682</td>\n",
       "      <td>-0.306074</td>\n",
       "      <td>0.016433</td>\n",
       "      <td>0.602620</td>\n",
       "      <td>-0.082597</td>\n",
       "      <td>0.334757</td>\n",
       "      <td>0.411715</td>\n",
       "      <td>-1.795662</td>\n",
       "      <td>...</td>\n",
       "      <td>0.213322</td>\n",
       "      <td>0.415169</td>\n",
       "      <td>-0.006284</td>\n",
       "      <td>-0.254582</td>\n",
       "      <td>0.452436</td>\n",
       "      <td>-0.100702</td>\n",
       "      <td>-0.655817</td>\n",
       "      <td>0.103778</td>\n",
       "      <td>-0.454154</td>\n",
       "      <td>-0.409535</td>\n",
       "    </tr>\n",
       "    <tr>\n",
       "      <th>9630</th>\n",
       "      <td>-0.033010</td>\n",
       "      <td>0.145460</td>\n",
       "      <td>-0.503682</td>\n",
       "      <td>-0.306074</td>\n",
       "      <td>0.016433</td>\n",
       "      <td>0.602620</td>\n",
       "      <td>-0.082597</td>\n",
       "      <td>0.334757</td>\n",
       "      <td>0.411715</td>\n",
       "      <td>-1.795662</td>\n",
       "      <td>...</td>\n",
       "      <td>0.213322</td>\n",
       "      <td>0.415169</td>\n",
       "      <td>-0.006889</td>\n",
       "      <td>-0.254582</td>\n",
       "      <td>0.097356</td>\n",
       "      <td>0.050272</td>\n",
       "      <td>-0.655817</td>\n",
       "      <td>0.256251</td>\n",
       "      <td>-0.454154</td>\n",
       "      <td>-0.409535</td>\n",
       "    </tr>\n",
       "    <tr>\n",
       "      <th>9631</th>\n",
       "      <td>-0.002516</td>\n",
       "      <td>-0.075457</td>\n",
       "      <td>-0.503682</td>\n",
       "      <td>-0.306074</td>\n",
       "      <td>-1.380375</td>\n",
       "      <td>0.602620</td>\n",
       "      <td>-0.082597</td>\n",
       "      <td>0.334757</td>\n",
       "      <td>0.411715</td>\n",
       "      <td>-1.795662</td>\n",
       "      <td>...</td>\n",
       "      <td>0.213322</td>\n",
       "      <td>0.415169</td>\n",
       "      <td>-0.006289</td>\n",
       "      <td>-0.254582</td>\n",
       "      <td>0.090076</td>\n",
       "      <td>0.049652</td>\n",
       "      <td>-0.655817</td>\n",
       "      <td>0.106613</td>\n",
       "      <td>-0.454154</td>\n",
       "      <td>-0.409535</td>\n",
       "    </tr>\n",
       "    <tr>\n",
       "      <th>9632</th>\n",
       "      <td>0.027978</td>\n",
       "      <td>-0.076399</td>\n",
       "      <td>-0.503682</td>\n",
       "      <td>-0.306074</td>\n",
       "      <td>0.016433</td>\n",
       "      <td>0.602620</td>\n",
       "      <td>-0.082597</td>\n",
       "      <td>0.334757</td>\n",
       "      <td>0.411715</td>\n",
       "      <td>-1.795662</td>\n",
       "      <td>...</td>\n",
       "      <td>0.213322</td>\n",
       "      <td>-0.037035</td>\n",
       "      <td>-0.006772</td>\n",
       "      <td>-0.254582</td>\n",
       "      <td>0.092205</td>\n",
       "      <td>0.051802</td>\n",
       "      <td>-0.655817</td>\n",
       "      <td>0.106661</td>\n",
       "      <td>-0.454154</td>\n",
       "      <td>-0.409535</td>\n",
       "    </tr>\n",
       "  </tbody>\n",
       "</table>\n",
       "<p>7140 rows × 90 columns</p>\n",
       "</div>"
      ],
      "text/plain": [
       "          ager     agexp      anoc    army85   autch98     auto4  autonomy  \\\n",
       "X                                                                            \n",
       "1     0.011565 -0.075864 -0.503682 -0.097323  0.016433 -0.005731 -0.018215   \n",
       "2     0.008046 -0.079254 -0.503682 -0.097473  0.016433  1.775804 -0.082597   \n",
       "3     1.308743 -0.079039 -0.503682 -0.094927  0.016433  1.775804 -0.082597   \n",
       "4     1.339237 -0.082167 -0.503682 -0.104053  0.016433  1.775804 -0.082597   \n",
       "5     1.369731 -0.077000 -0.503682 -0.093556  0.016433  1.775804 -0.082597   \n",
       "...        ...       ...       ...       ...       ...       ...       ...   \n",
       "9628 -0.093999 -0.262238 -0.503682 -0.306074  0.016433  0.602620 -0.082597   \n",
       "9629 -0.063505 -0.170693 -0.503682 -0.306074  0.016433  0.602620 -0.082597   \n",
       "9630 -0.033010  0.145460 -0.503682 -0.306074  0.016433  0.602620 -0.082597   \n",
       "9631 -0.002516 -0.075457 -0.503682 -0.306074 -1.380375  0.602620 -0.082597   \n",
       "9632  0.027978 -0.076399 -0.503682 -0.306074  0.016433  0.602620 -0.082597   \n",
       "\n",
       "       avgnabo  centpol3   coldwar  ...   seceduc    second  semipol3  \\\n",
       "X                                   ...                                 \n",
       "1    -0.053497  0.411715  0.556820  ...  0.076855  0.919162 -0.007550   \n",
       "2    -1.315951  0.411715  0.556820  ...  0.069821  0.919162 -0.287012   \n",
       "3    -1.364826  0.411715  0.556820  ...  0.067881  0.919162 -0.287012   \n",
       "4    -1.389263  0.411715  0.556820  ...  0.066018  0.919162 -0.287012   \n",
       "5    -1.389263  0.411715  0.556820  ...  0.070357  0.919162 -0.287012   \n",
       "...        ...       ...       ...  ...       ...       ...       ...   \n",
       "9628  0.334757  0.411715 -1.795662  ...  0.213322  0.415169 -0.007124   \n",
       "9629  0.334757  0.411715 -1.795662  ...  0.213322  0.415169 -0.006284   \n",
       "9630  0.334757  0.411715 -1.795662  ...  0.213322  0.415169 -0.006889   \n",
       "9631  0.334757  0.411715 -1.795662  ...  0.213322  0.415169 -0.006289   \n",
       "9632  0.334757  0.411715 -1.795662  ...  0.213322 -0.037035 -0.006772   \n",
       "\n",
       "          sip2    sxpnew     sxpsq   tnatwar     trade   warhist    xconst  \n",
       "X                                                                           \n",
       "1     0.026881  0.094095  0.052437 -0.139284  0.107157 -0.454154  0.033310  \n",
       "2    -1.219573  0.094547  0.049137  0.509491  0.107596 -0.454154 -1.298861  \n",
       "3    -1.219573  0.095567  0.051447  1.674799  0.109070 -0.454154 -1.298861  \n",
       "4    -1.219573  0.101303  0.051559  1.674799  0.112345 -0.454154 -1.298861  \n",
       "5    -1.219573  0.092107  0.049569  1.674799  0.106430 -0.454154 -1.298861  \n",
       "...        ...       ...       ...       ...       ...       ...       ...  \n",
       "9628 -0.254582  0.259141 -0.174152 -0.655817  0.250157 -0.454154 -0.409535  \n",
       "9629 -0.254582  0.452436 -0.100702 -0.655817  0.103778 -0.454154 -0.409535  \n",
       "9630 -0.254582  0.097356  0.050272 -0.655817  0.256251 -0.454154 -0.409535  \n",
       "9631 -0.254582  0.090076  0.049652 -0.655817  0.106613 -0.454154 -0.409535  \n",
       "9632 -0.254582  0.092205  0.051802 -0.655817  0.106661 -0.454154 -0.409535  \n",
       "\n",
       "[7140 rows x 90 columns]"
      ]
     },
     "metadata": {},
     "output_type": "display_data"
    }
   ],
   "source": [
    "means = features.mean()\n",
    "stds = features.std()\n",
    "\n",
    "for c in features.columns:\n",
    "    features[c] = (features[c] - means[c])/stds[c]\n",
    "    \n",
    "display(features)"
   ]
  },
  {
   "cell_type": "markdown",
   "metadata": {},
   "source": [
    "### 4) Tuning hyperparameters: Cross-validation"
   ]
  },
  {
   "cell_type": "markdown",
   "metadata": {},
   "source": [
    "AdaBoostmodel depends on an hyperparameter `nt`(number of estimators, i.e. decision trees). We will now tune it using Cross-validation."
   ]
  },
  {
   "cell_type": "code",
   "execution_count": 9,
   "metadata": {},
   "outputs": [],
   "source": [
    "def plot_precision_recall_nt(number_trees):\n",
    "    precision_scores = []\n",
    "    recalls_scores = []\n",
    "    #accuracy_scores = []\n",
    "\n",
    "    for nt in number_trees:\n",
    "        print(nt)\n",
    "        clf = AdaBoostClassifier(n_estimators=nt, random_state=0)\n",
    "        precision = cross_val_score(clf, features, target, cv=10, scoring=\"precision\")\n",
    "        precision_scores.append(precision.mean())\n",
    "        recall = cross_val_score(clf, features, target, cv=10, scoring=\"recall\")\n",
    "        recalls_scores.append(recall.mean())\n",
    "        #accuracy = cross_val_score(clf, features, target, cv=10, scoring=\"accuracy\")\n",
    "        #accuracy_scores.append(accuracy.mean())\n",
    "    \n",
    "    return precision_scores, recalls_scores"
   ]
  },
  {
   "cell_type": "code",
   "execution_count": 6,
   "metadata": {},
   "outputs": [
    {
     "name": "stdout",
     "output_type": "stream",
     "text": [
      "50\n",
      "100\n",
      "250\n",
      "500\n",
      "750\n",
      "1000\n"
     ]
    }
   ],
   "source": [
    "precision_scores, recalls_scores = plot_precision_recall_nt([50, 100, 250, 500, 750, 1000])"
   ]
  },
  {
   "cell_type": "markdown",
   "metadata": {},
   "source": [
    "Note here that it would be tempting to compute accuracy, but that this measures is meaningless in such a imbalanced dataset."
   ]
  },
  {
   "cell_type": "code",
   "execution_count": 7,
   "metadata": {},
   "outputs": [
    {
     "data": {
      "image/png": "[encoded data removed]",
      "text/plain": [
       "<Figure size 432x288 with 1 Axes>"
      ]
     },
     "metadata": {
      "needs_background": "light"
     },
     "output_type": "display_data"
    }
   ],
   "source": [
    "fig, ax = plt.subplots(1,figsize=(6,4))\n",
    "\n",
    "ax.plot(number_trees, precision_scores, label=\"Precision\")\n",
    "ax.plot(number_trees, recalls_scores, label=\"Recall\")\n",
    "\n",
    "ax.set_ylabel(\"Score value\")\n",
    "ax.set_xlabel(\"Number of trees\")\n",
    "ax.legend()\n",
    "\n",
    "fig.tight_layout()"
   ]
  },
  {
   "cell_type": "markdown",
   "metadata": {},
   "source": [
    "Precision as well as Recall seems higher around 100 estimators. Let's plot this again for nt in that range."
   ]
  },
  {
   "cell_type": "code",
   "execution_count": 10,
   "metadata": {},
   "outputs": [
    {
     "name": "stdout",
     "output_type": "stream",
     "text": [
      "70\n",
      "80\n",
      "90\n",
      "100\n",
      "110\n",
      "120\n",
      "130\n",
      "140\n",
      "150\n",
      "160\n"
     ]
    }
   ],
   "source": [
    "precision_scores, recalls_scores = plot_precision_recall_nt([70,80,90,100,110,120,130,140,150,160])"
   ]
  },
  {
   "cell_type": "code",
   "execution_count": 18,
   "metadata": {},
   "outputs": [
    {
     "data": {
      "image/png": "[encoded data removed]",
      "text/plain": [
       "<Figure size 432x288 with 1 Axes>"
      ]
     },
     "metadata": {
      "needs_background": "light"
     },
     "output_type": "display_data"
    }
   ],
   "source": [
    "fig, ax = plt.subplots(1,figsize=(6,4))\n",
    "number_trees = [70,80,90,100,110,120,130,140,150,160]\n",
    "ax.plot(number_trees, precision_scores, label=\"Precision\")\n",
    "ax.plot(number_trees, recalls_scores, label=\"Recall\")\n",
    "ax.axvline(x=110, c = 'black', linestyle = '--')\n",
    "\n",
    "ax.set_ylabel(\"Score value\")\n",
    "ax.set_xlabel(\"Number of trees\")\n",
    "ax.legend()\n",
    "\n",
    "fig.tight_layout()"
   ]
  },
  {
   "cell_type": "markdown",
   "metadata": {},
   "source": [
    "**nt = 110** seems to be a good number of trees (by default it's 50). Note that we chose 110 and not 100 because of the massive increase of Precision (which compensate for the negligeable decrease in recall). "
   ]
  },
  {
   "cell_type": "markdown",
   "metadata": {},
   "source": [
    "AdaBoostClassifier has another hyperparameter : `base_estimator` which is DecisionTreeClassifier(max_depth=1) by default. We can tune the max_depth via cross-validation."
   ]
  },
  {
   "cell_type": "code",
   "execution_count": 19,
   "metadata": {},
   "outputs": [
    {
     "name": "stdout",
     "output_type": "stream",
     "text": [
      "1\n",
      "2\n",
      "3\n",
      "4\n",
      "5\n",
      "6\n",
      "7\n"
     ]
    },
    {
     "name": "stderr",
     "output_type": "stream",
     "text": [
      "/home/loic/anaconda3/envs/ada/lib/python3.8/site-packages/sklearn/metrics/_classification.py:1221: UndefinedMetricWarning: Precision is ill-defined and being set to 0.0 due to no predicted samples. Use `zero_division` parameter to control this behavior.\n",
      "  _warn_prf(average, modifier, msg_start, len(result))\n",
      "/home/loic/anaconda3/envs/ada/lib/python3.8/site-packages/sklearn/metrics/_classification.py:1221: UndefinedMetricWarning: Precision is ill-defined and being set to 0.0 due to no predicted samples. Use `zero_division` parameter to control this behavior.\n",
      "  _warn_prf(average, modifier, msg_start, len(result))\n"
     ]
    },
    {
     "name": "stdout",
     "output_type": "stream",
     "text": [
      "8\n"
     ]
    },
    {
     "name": "stderr",
     "output_type": "stream",
     "text": [
      "/home/loic/anaconda3/envs/ada/lib/python3.8/site-packages/sklearn/metrics/_classification.py:1221: UndefinedMetricWarning: Precision is ill-defined and being set to 0.0 due to no predicted samples. Use `zero_division` parameter to control this behavior.\n",
      "  _warn_prf(average, modifier, msg_start, len(result))\n",
      "/home/loic/anaconda3/envs/ada/lib/python3.8/site-packages/sklearn/metrics/_classification.py:1221: UndefinedMetricWarning: Precision is ill-defined and being set to 0.0 due to no predicted samples. Use `zero_division` parameter to control this behavior.\n",
      "  _warn_prf(average, modifier, msg_start, len(result))\n"
     ]
    },
    {
     "name": "stdout",
     "output_type": "stream",
     "text": [
      "9\n"
     ]
    },
    {
     "name": "stderr",
     "output_type": "stream",
     "text": [
      "/home/loic/anaconda3/envs/ada/lib/python3.8/site-packages/sklearn/metrics/_classification.py:1221: UndefinedMetricWarning: Precision is ill-defined and being set to 0.0 due to no predicted samples. Use `zero_division` parameter to control this behavior.\n",
      "  _warn_prf(average, modifier, msg_start, len(result))\n"
     ]
    },
    {
     "name": "stdout",
     "output_type": "stream",
     "text": [
      "10\n"
     ]
    }
   ],
   "source": [
    "max_depth = [i for i in range(1,11)]\n",
    "precision_scores = []\n",
    "recalls_scores = []\n",
    "#accuracy_scores = []\n",
    "\n",
    "nt = 110 #tuned\n",
    "\n",
    "for depth in max_depth:\n",
    "    print(depth)\n",
    "    clf = AdaBoostClassifier(base_estimator = DecisionTreeClassifier(max_depth = depth), n_estimators=nt, random_state=0)\n",
    "    precision = cross_val_score(clf, features, target, cv=10, scoring=\"precision\")\n",
    "    precision_scores.append(precision.mean())\n",
    "    recall = cross_val_score(clf, features, target, cv=10, scoring=\"recall\")\n",
    "    recalls_scores.append(recall.mean())\n",
    "    #accuracy = cross_val_score(clf, features, target, cv=10, scoring=\"accuracy\")\n",
    "    #accuracy_scores.append(accuracy.mean())"
   ]
  },
  {
   "cell_type": "code",
   "execution_count": 20,
   "metadata": {},
   "outputs": [
    {
     "data": {
      "image/png": "[encoded data removed]",
      "text/plain": [
       "<Figure size 432x288 with 1 Axes>"
      ]
     },
     "metadata": {
      "needs_background": "light"
     },
     "output_type": "display_data"
    }
   ],
   "source": [
    "fig, ax = plt.subplots(1,figsize=(6,4))\n",
    "\n",
    "ax.plot(max_depth, precision_scores, label=\"Precision\")\n",
    "ax.plot(max_depth, recalls_scores, label=\"Recall\")\n",
    "\n",
    "ax.set_ylabel(\"Score value\")\n",
    "ax.set_xlabel(\"Max depth of Decision Trees\")\n",
    "ax.legend()\n",
    "\n",
    "fig.tight_layout()"
   ]
  },
  {
   "cell_type": "markdown",
   "metadata": {},
   "source": [
    "Here we see that the bigger the max_depth, the bigger the Precision but the lower the Recall. We have to think about what's best for our application. Should we care more about Precision or about Recall? And to what extend? After testing with different number of trees, we obtain better ROC curves with 4 and thus will keep this value."
   ]
  },
  {
   "cell_type": "markdown",
   "metadata": {},
   "source": [
    "AdaBoostClassifier has another hyperparameter : `learning_rate`. We can tune the max_depth via cross-validation."
   ]
  },
  {
   "cell_type": "code",
   "execution_count": 49,
   "metadata": {},
   "outputs": [
    {
     "name": "stdout",
     "output_type": "stream",
     "text": [
      "0.1\n",
      "0.5\n",
      "1\n",
      "1.5\n",
      "2\n"
     ]
    },
    {
     "name": "stderr",
     "output_type": "stream",
     "text": [
      "/home/loic/anaconda3/envs/ada/lib/python3.8/site-packages/sklearn/metrics/_classification.py:1221: UndefinedMetricWarning: Precision is ill-defined and being set to 0.0 due to no predicted samples. Use `zero_division` parameter to control this behavior.\n",
      "  _warn_prf(average, modifier, msg_start, len(result))\n"
     ]
    },
    {
     "name": "stdout",
     "output_type": "stream",
     "text": [
      "5\n"
     ]
    }
   ],
   "source": [
    "learning_rates = [0.1,0.5,1,1.5,2,5]\n",
    "precision_scores = []\n",
    "recalls_scores = []\n",
    "#accuracy_scores = []\n",
    "\n",
    "nt = 110 #tuned\n",
    "depth = 4 #tuned\n",
    "\n",
    "for learning_rate in learning_rates:\n",
    "    print(learning_rate)\n",
    "    clf = AdaBoostClassifier(base_estimator = DecisionTreeClassifier(max_depth = depth), n_estimators=nt, random_state=0, learning_rate=learning_rate)\n",
    "    precision = cross_val_score(clf, features, target, cv=10, scoring=\"precision\")\n",
    "    precision_scores.append(precision.mean())\n",
    "    recall = cross_val_score(clf, features, target, cv=10, scoring=\"recall\")\n",
    "    recalls_scores.append(recall.mean())\n",
    "    #accuracy = cross_val_score(clf, features, target, cv=10, scoring=\"accuracy\")\n",
    "    #accuracy_scores.append(accuracy.mean())"
   ]
  },
  {
   "cell_type": "code",
   "execution_count": 53,
   "metadata": {},
   "outputs": [
    {
     "data": {
      "image/png": "[encoded data removed]",
      "text/plain": [
       "<Figure size 432x288 with 1 Axes>"
      ]
     },
     "metadata": {
      "needs_background": "light"
     },
     "output_type": "display_data"
    }
   ],
   "source": [
    "fig, ax = plt.subplots(1,figsize=(6,4))\n",
    "\n",
    "ax.plot(learning_rates, precision_scores, label=\"Precision\")\n",
    "ax.plot(learning_rates, recalls_scores, label=\"Recall\")\n",
    "\n",
    "\n",
    "ax.set_ylabel(\"Score value\")\n",
    "ax.set_xlabel(\"Learning rate\")\n",
    "ax.legend()\n",
    "\n",
    "fig.tight_layout()"
   ]
  },
  {
   "cell_type": "markdown",
   "metadata": {},
   "source": [
    "Here we see that the best performance is obtained for the learning rate = 1 (by default). Note that there exists obviously a trade-off between learning_rate and n_estimators."
   ]
  },
  {
   "cell_type": "markdown",
   "metadata": {},
   "source": [
    "### 5) Comparing the models: ROC curves"
   ]
  },
  {
   "cell_type": "markdown",
   "metadata": {},
   "source": [
    "Now that we have tuned our AdaBoostClassifier, we will compare its performances to the other classifiers using ROC curves"
   ]
  },
  {
   "cell_type": "code",
   "execution_count": 44,
   "metadata": {},
   "outputs": [],
   "source": [
    "nt = 110 #tuned\n",
    "AdaBoostmodel = AdaBoostClassifier(base_estimator = DecisionTreeClassifier(max_depth=4), n_estimators=nt, random_state = 1)"
   ]
  },
  {
   "cell_type": "markdown",
   "metadata": {},
   "source": [
    "We will first make target predictions using cross-validation."
   ]
  },
  {
   "cell_type": "code",
   "execution_count": 45,
   "metadata": {},
   "outputs": [],
   "source": [
    "target_prediction_AdaBoostmodel = cross_val_predict(AdaBoostmodel, features, target, cv = 10, method=\"predict_proba\")"
   ]
  },
  {
   "cell_type": "markdown",
   "metadata": {},
   "source": [
    "Then use the result to compute its ROC curve:"
   ]
  },
  {
   "cell_type": "code",
   "execution_count": 50,
   "metadata": {},
   "outputs": [],
   "source": [
    "FPR_AdaBoostmodel, TPR_AdaBoostmodel, thresholds = roc_curve(target, target_prediction_AdaBoostmodel[:, 1])"
   ]
  },
  {
   "cell_type": "markdown",
   "metadata": {},
   "source": [
    "We will also compute its AUC score:"
   ]
  },
  {
   "cell_type": "code",
   "execution_count": 51,
   "metadata": {},
   "outputs": [],
   "source": [
    "AUC_AdaBoostmodel = auc(FPR_AdaBoostmodel, TPR_AdaBoostmodel)"
   ]
  },
  {
   "cell_type": "markdown",
   "metadata": {},
   "source": [
    "And now plot it:"
   ]
  },
  {
   "cell_type": "code",
   "execution_count": 48,
   "metadata": {},
   "outputs": [
    {
     "data": {
      "text/plain": [
       "Text(0.5, 1.0, 'AdaBoostClassifier ROC curve')"
      ]
     },
     "execution_count": 48,
     "metadata": {},
     "output_type": "execute_result"
    },
    {
     "data": {
      "image/png": "[encoded data removed]",
      "text/plain": [
       "<Figure size 432x288 with 1 Axes>"
      ]
     },
     "metadata": {
      "needs_background": "light"
     },
     "output_type": "display_data"
    }
   ],
   "source": [
    "plt.plot(FPR_AdaBoostmodel, TPR_AdaBoostmodel, label = \"AdaBoostClassifier {:.2f}\".format(AUC_AdaBoostmodel))\n",
    "plt.legend(frameon = False)\n",
    "plt.xlabel(\"False Positive Rate\", labelpad = 10)\n",
    "plt.ylabel(\"True Positive Rate\", labelpad = 10)\n",
    "plt.title(\"AdaBoostClassifier ROC curve\", pad = 15, fontweight = 'bold')"
   ]
  },
  {
   "cell_type": "markdown",
   "metadata": {},
   "source": [
    "Here is the Random Forest's ROC curve:\n",
    "\n",
    "<img src=\"./pictures/Random_forest_ROC_curve.png\" width=\"425\"/>"
   ]
  },
  {
   "cell_type": "markdown",
   "metadata": {},
   "source": [
    "As expected, our AdaBoostClassifier scores better than any of the Logistic Regression methods, but a bit worse than Random Forest."
   ]
  },
  {
   "cell_type": "markdown",
   "metadata": {},
   "source": [
    "F1 score + features importance"
   ]
  },
  {
   "cell_type": "code",
   "execution_count": null,
   "metadata": {},
   "outputs": [],
   "source": []
  }
 ],
 "metadata": {
  "kernelspec": {
   "display_name": "Python 3",
   "language": "python",
   "name": "python3"
  },
  "language_info": {
   "codemirror_mode": {
    "name": "ipython",
    "version": 3
   },
   "file_extension": ".py",
   "mimetype": "text/x-python",
   "name": "python",
   "nbconvert_exporter": "python",
   "pygments_lexer": "ipython3",
   "version": "3.8.3"
  }
 },
 "nbformat": 4,
 "nbformat_minor": 4
}
