{
 "cells": [
  {
   "cell_type": "markdown",
   "metadata": {},
   "source": [
    "# **Boosted Decision Trees**"
   ]
  },
  {
   "cell_type": "markdown",
   "metadata": {},
   "source": [
    "Random Forest and Boosted Decision Trees both are based on Decision Trees to make predictions. However, Random Forest uses **Bagging**, which relies on training learners in parallel on different samples of the data and then combining by voting (discrete output) or by averaging (continuous output). It is really easy to implement and to parallelize (and therefore one of the most popular classifier for dense data). Whereas Boosted Decision Trees uses **Boosting**, which relies on training learner again, but after filtering/weighting samples based on output of previous train/test runs. In contrast to Random Forest, here the trees are trained independently as they are trained sequentially by boosting (meaning that each tree is trained to predict error residuals of previous trees). This technic allows to reduce the bias.\n",
    "\n",
    "After many researches on the internet [citation needed](citationlink), we found that actually **Random Forest is not really suited for classification problems with a skewed class distribution**. However, according to the literature [citation needed](citationlink), Boosted Decision Trees seems less sensitive to such imbalanced dataset. This is why we will implement it and test this hypothesis."
   ]
  },
  {
   "cell_type": "markdown",
   "metadata": {},
   "source": [
    "### 1) Kind of Boosted Decision Trees?\n",
    "\n",
    "`sklearn` offers such a Boosting Decision Trees classifier: `AdaBoostClassifer`. \n",
    "\n",
    "Here is a bit of knowledge about AdaBoost : \"The core principle of AdaBoost is to **fit a sequence of weak learners** (i.e., models that are only slightly better than random guessing, such as small decision trees) on repeatedly modified versions of the data. The predictions from all of them are then combined through a **weighted majority vote** (or sum) to produce the final prediction. The data modifications at each so-called **boosting iteration consist of applying weights $w_i$ to each of the training samples**. Initially, those weights are all set to $w_i = 1/N$ so that the first step simply trains a weak learner on the original data. For each successive iteration, the sample weights are individually modified and the learning algorithm is reapplied to the reweighted data. At a given step, **those training examples that were incorrectly predicted by the boosted model induced at the previous step have their weights increased, whereas the weights are decreased for those that were predicted correctly**. As iterations proceed, **examples that are difficult to predict receive ever-increasing influence**. Each subsequent weak learner is thereby forced to concentrate on the examples that are missed by the previous ones in the sequence\""
   ]
  },
  {
   "cell_type": "markdown",
   "metadata": {},
   "source": [
    "With this, we understand clearly here why this kind of Boosted Decision Trees has better chance to handle imbalanced dataset. Civil War Onsets being really rare and hard to predict events, it will receive an ever-increasing influence through the weights until it balances out the fact that they are rare in the dataset. This why, we can hope that the model will be better suited (than RF) to predict these kind of events as it will be forced to concentrate on these hard to detected (because rare) events missed by the previous trees."
   ]
  },
  {
   "cell_type": "markdown",
   "metadata": {},
   "source": [
    "### 2) Libraries"
   ]
  },
  {
   "cell_type": "code",
   "execution_count": 1,
   "metadata": {},
   "outputs": [],
   "source": [
    "import matplotlib.pyplot as plt\n",
    "import pandas as pd\n",
    "import numpy as np\n",
    "\n",
    "from sklearn.ensemble import AdaBoostClassifier\n",
    "from sklearn.tree import DecisionTreeClassifier\n",
    "from sklearn.model_selection import cross_val_predict, cross_val_score\n",
    "from sklearn.metrics import roc_curve, auc\n",
    "from helpers import load_data"
   ]
  },
  {
   "cell_type": "markdown",
   "metadata": {},
   "source": [
    "### 3) Pre-processing"
   ]
  },
  {
   "cell_type": "code",
   "execution_count": 3,
   "metadata": {},
   "outputs": [
    {
     "data": {
      "text/html": [
       "<div>\n",
       "<style scoped>\n",
       "    .dataframe tbody tr th:only-of-type {\n",
       "        vertical-align: middle;\n",
       "    }\n",
       "\n",
       "    .dataframe tbody tr th {\n",
       "        vertical-align: top;\n",
       "    }\n",
       "\n",
       "    .dataframe thead th {\n",
       "        text-align: right;\n",
       "    }\n",
       "</style>\n",
       "<table border=\"1\" class=\"dataframe\">\n",
       "  <thead>\n",
       "    <tr style=\"text-align: right;\">\n",
       "      <th></th>\n",
       "      <th>ager</th>\n",
       "      <th>agexp</th>\n",
       "      <th>anoc</th>\n",
       "      <th>army85</th>\n",
       "      <th>autch98</th>\n",
       "      <th>auto4</th>\n",
       "      <th>autonomy</th>\n",
       "      <th>avgnabo</th>\n",
       "      <th>centpol3</th>\n",
       "      <th>coldwar</th>\n",
       "      <th>...</th>\n",
       "      <th>seceduc</th>\n",
       "      <th>second</th>\n",
       "      <th>semipol3</th>\n",
       "      <th>sip2</th>\n",
       "      <th>sxpnew</th>\n",
       "      <th>sxpsq</th>\n",
       "      <th>tnatwar</th>\n",
       "      <th>trade</th>\n",
       "      <th>warhist</th>\n",
       "      <th>xconst</th>\n",
       "    </tr>\n",
       "    <tr>\n",
       "      <th>X</th>\n",
       "      <th></th>\n",
       "      <th></th>\n",
       "      <th></th>\n",
       "      <th></th>\n",
       "      <th></th>\n",
       "      <th></th>\n",
       "      <th></th>\n",
       "      <th></th>\n",
       "      <th></th>\n",
       "      <th></th>\n",
       "      <th></th>\n",
       "      <th></th>\n",
       "      <th></th>\n",
       "      <th></th>\n",
       "      <th></th>\n",
       "      <th></th>\n",
       "      <th></th>\n",
       "      <th></th>\n",
       "      <th></th>\n",
       "      <th></th>\n",
       "      <th></th>\n",
       "    </tr>\n",
       "  </thead>\n",
       "  <tbody>\n",
       "    <tr>\n",
       "      <th>1</th>\n",
       "      <td>34.461765</td>\n",
       "      <td>8.510845</td>\n",
       "      <td>0</td>\n",
       "      <td>129472.9042</td>\n",
       "      <td>0</td>\n",
       "      <td>3.925812</td>\n",
       "      <td>0.005151</td>\n",
       "      <td>0.432955</td>\n",
       "      <td>1</td>\n",
       "      <td>1</td>\n",
       "      <td>...</td>\n",
       "      <td>43.770298</td>\n",
       "      <td>0.253000</td>\n",
       "      <td>0.058441</td>\n",
       "      <td>0.46176</td>\n",
       "      <td>0.158275</td>\n",
       "      <td>0.052989</td>\n",
       "      <td>0.443259</td>\n",
       "      <td>72.881375</td>\n",
       "      <td>0</td>\n",
       "      <td>3.995912</td>\n",
       "    </tr>\n",
       "    <tr>\n",
       "      <th>2</th>\n",
       "      <td>34.346348</td>\n",
       "      <td>8.478997</td>\n",
       "      <td>0</td>\n",
       "      <td>129413.0225</td>\n",
       "      <td>0</td>\n",
       "      <td>10.000000</td>\n",
       "      <td>0.000000</td>\n",
       "      <td>0.045052</td>\n",
       "      <td>1</td>\n",
       "      <td>1</td>\n",
       "      <td>...</td>\n",
       "      <td>43.588363</td>\n",
       "      <td>0.253000</td>\n",
       "      <td>0.000000</td>\n",
       "      <td>0.00000</td>\n",
       "      <td>0.158321</td>\n",
       "      <td>0.052663</td>\n",
       "      <td>1.000000</td>\n",
       "      <td>72.900089</td>\n",
       "      <td>0</td>\n",
       "      <td>1.000000</td>\n",
       "    </tr>\n",
       "    <tr>\n",
       "      <th>3</th>\n",
       "      <td>77.000000</td>\n",
       "      <td>8.481015</td>\n",
       "      <td>0</td>\n",
       "      <td>130431.0145</td>\n",
       "      <td>0</td>\n",
       "      <td>10.000000</td>\n",
       "      <td>0.000000</td>\n",
       "      <td>0.030034</td>\n",
       "      <td>1</td>\n",
       "      <td>1</td>\n",
       "      <td>...</td>\n",
       "      <td>43.538181</td>\n",
       "      <td>0.253000</td>\n",
       "      <td>0.000000</td>\n",
       "      <td>0.00000</td>\n",
       "      <td>0.158425</td>\n",
       "      <td>0.052891</td>\n",
       "      <td>2.000000</td>\n",
       "      <td>72.962880</td>\n",
       "      <td>0</td>\n",
       "      <td>1.000000</td>\n",
       "    </tr>\n",
       "    <tr>\n",
       "      <th>4</th>\n",
       "      <td>78.000000</td>\n",
       "      <td>8.451628</td>\n",
       "      <td>0</td>\n",
       "      <td>126781.6866</td>\n",
       "      <td>0</td>\n",
       "      <td>10.000000</td>\n",
       "      <td>0.000000</td>\n",
       "      <td>0.022526</td>\n",
       "      <td>1</td>\n",
       "      <td>1</td>\n",
       "      <td>...</td>\n",
       "      <td>43.490005</td>\n",
       "      <td>0.253000</td>\n",
       "      <td>0.000000</td>\n",
       "      <td>0.00000</td>\n",
       "      <td>0.159006</td>\n",
       "      <td>0.052902</td>\n",
       "      <td>2.000000</td>\n",
       "      <td>73.102449</td>\n",
       "      <td>0</td>\n",
       "      <td>1.000000</td>\n",
       "    </tr>\n",
       "    <tr>\n",
       "      <th>5</th>\n",
       "      <td>79.000000</td>\n",
       "      <td>8.500172</td>\n",
       "      <td>0</td>\n",
       "      <td>130979.2470</td>\n",
       "      <td>0</td>\n",
       "      <td>10.000000</td>\n",
       "      <td>0.000000</td>\n",
       "      <td>0.022526</td>\n",
       "      <td>1</td>\n",
       "      <td>1</td>\n",
       "      <td>...</td>\n",
       "      <td>43.602238</td>\n",
       "      <td>0.253000</td>\n",
       "      <td>0.000000</td>\n",
       "      <td>0.00000</td>\n",
       "      <td>0.158074</td>\n",
       "      <td>0.052706</td>\n",
       "      <td>2.000000</td>\n",
       "      <td>72.850389</td>\n",
       "      <td>0</td>\n",
       "      <td>1.000000</td>\n",
       "    </tr>\n",
       "    <tr>\n",
       "      <th>...</th>\n",
       "      <td>...</td>\n",
       "      <td>...</td>\n",
       "      <td>...</td>\n",
       "      <td>...</td>\n",
       "      <td>...</td>\n",
       "      <td>...</td>\n",
       "      <td>...</td>\n",
       "      <td>...</td>\n",
       "      <td>...</td>\n",
       "      <td>...</td>\n",
       "      <td>...</td>\n",
       "      <td>...</td>\n",
       "      <td>...</td>\n",
       "      <td>...</td>\n",
       "      <td>...</td>\n",
       "      <td>...</td>\n",
       "      <td>...</td>\n",
       "      <td>...</td>\n",
       "      <td>...</td>\n",
       "      <td>...</td>\n",
       "      <td>...</td>\n",
       "    </tr>\n",
       "    <tr>\n",
       "      <th>9628</th>\n",
       "      <td>31.000000</td>\n",
       "      <td>6.760000</td>\n",
       "      <td>0</td>\n",
       "      <td>46000.0000</td>\n",
       "      <td>0</td>\n",
       "      <td>6.000000</td>\n",
       "      <td>0.000000</td>\n",
       "      <td>0.552250</td>\n",
       "      <td>1</td>\n",
       "      <td>0</td>\n",
       "      <td>...</td>\n",
       "      <td>47.299999</td>\n",
       "      <td>0.200000</td>\n",
       "      <td>0.058530</td>\n",
       "      <td>0.35749</td>\n",
       "      <td>0.175017</td>\n",
       "      <td>0.030631</td>\n",
       "      <td>0.000000</td>\n",
       "      <td>78.975510</td>\n",
       "      <td>0</td>\n",
       "      <td>3.000000</td>\n",
       "    </tr>\n",
       "    <tr>\n",
       "      <th>9629</th>\n",
       "      <td>32.000000</td>\n",
       "      <td>7.620000</td>\n",
       "      <td>0</td>\n",
       "      <td>46000.0000</td>\n",
       "      <td>0</td>\n",
       "      <td>6.000000</td>\n",
       "      <td>0.000000</td>\n",
       "      <td>0.552250</td>\n",
       "      <td>1</td>\n",
       "      <td>0</td>\n",
       "      <td>...</td>\n",
       "      <td>47.299999</td>\n",
       "      <td>0.200000</td>\n",
       "      <td>0.058706</td>\n",
       "      <td>0.35749</td>\n",
       "      <td>0.194624</td>\n",
       "      <td>0.037878</td>\n",
       "      <td>0.000000</td>\n",
       "      <td>72.737373</td>\n",
       "      <td>0</td>\n",
       "      <td>3.000000</td>\n",
       "    </tr>\n",
       "    <tr>\n",
       "      <th>9630</th>\n",
       "      <td>33.000000</td>\n",
       "      <td>10.590000</td>\n",
       "      <td>0</td>\n",
       "      <td>46000.0000</td>\n",
       "      <td>0</td>\n",
       "      <td>6.000000</td>\n",
       "      <td>0.000000</td>\n",
       "      <td>0.552250</td>\n",
       "      <td>1</td>\n",
       "      <td>0</td>\n",
       "      <td>...</td>\n",
       "      <td>47.299999</td>\n",
       "      <td>0.200000</td>\n",
       "      <td>0.058580</td>\n",
       "      <td>0.35749</td>\n",
       "      <td>0.158606</td>\n",
       "      <td>0.052775</td>\n",
       "      <td>0.000000</td>\n",
       "      <td>79.235222</td>\n",
       "      <td>0</td>\n",
       "      <td>3.000000</td>\n",
       "    </tr>\n",
       "    <tr>\n",
       "      <th>9631</th>\n",
       "      <td>34.000000</td>\n",
       "      <td>8.514664</td>\n",
       "      <td>0</td>\n",
       "      <td>46000.0000</td>\n",
       "      <td>-1</td>\n",
       "      <td>6.000000</td>\n",
       "      <td>0.000000</td>\n",
       "      <td>0.552250</td>\n",
       "      <td>1</td>\n",
       "      <td>0</td>\n",
       "      <td>...</td>\n",
       "      <td>47.299999</td>\n",
       "      <td>0.200000</td>\n",
       "      <td>0.058705</td>\n",
       "      <td>0.35749</td>\n",
       "      <td>0.157868</td>\n",
       "      <td>0.052714</td>\n",
       "      <td>0.000000</td>\n",
       "      <td>72.858179</td>\n",
       "      <td>0</td>\n",
       "      <td>3.000000</td>\n",
       "    </tr>\n",
       "    <tr>\n",
       "      <th>9632</th>\n",
       "      <td>35.000000</td>\n",
       "      <td>8.505816</td>\n",
       "      <td>0</td>\n",
       "      <td>46000.0000</td>\n",
       "      <td>0</td>\n",
       "      <td>6.000000</td>\n",
       "      <td>0.000000</td>\n",
       "      <td>0.552250</td>\n",
       "      <td>1</td>\n",
       "      <td>0</td>\n",
       "      <td>...</td>\n",
       "      <td>47.299999</td>\n",
       "      <td>0.152446</td>\n",
       "      <td>0.058604</td>\n",
       "      <td>0.35749</td>\n",
       "      <td>0.158083</td>\n",
       "      <td>0.052926</td>\n",
       "      <td>0.000000</td>\n",
       "      <td>72.860222</td>\n",
       "      <td>0</td>\n",
       "      <td>3.000000</td>\n",
       "    </tr>\n",
       "  </tbody>\n",
       "</table>\n",
       "<p>7140 rows × 90 columns</p>\n",
       "</div>"
      ],
      "text/plain": [
       "           ager      agexp  anoc       army85  autch98      auto4  autonomy  \\\n",
       "X                                                                             \n",
       "1     34.461765   8.510845     0  129472.9042        0   3.925812  0.005151   \n",
       "2     34.346348   8.478997     0  129413.0225        0  10.000000  0.000000   \n",
       "3     77.000000   8.481015     0  130431.0145        0  10.000000  0.000000   \n",
       "4     78.000000   8.451628     0  126781.6866        0  10.000000  0.000000   \n",
       "5     79.000000   8.500172     0  130979.2470        0  10.000000  0.000000   \n",
       "...         ...        ...   ...          ...      ...        ...       ...   \n",
       "9628  31.000000   6.760000     0   46000.0000        0   6.000000  0.000000   \n",
       "9629  32.000000   7.620000     0   46000.0000        0   6.000000  0.000000   \n",
       "9630  33.000000  10.590000     0   46000.0000        0   6.000000  0.000000   \n",
       "9631  34.000000   8.514664     0   46000.0000       -1   6.000000  0.000000   \n",
       "9632  35.000000   8.505816     0   46000.0000        0   6.000000  0.000000   \n",
       "\n",
       "       avgnabo  centpol3  coldwar  ...    seceduc    second  semipol3  \\\n",
       "X                                  ...                                  \n",
       "1     0.432955         1        1  ...  43.770298  0.253000  0.058441   \n",
       "2     0.045052         1        1  ...  43.588363  0.253000  0.000000   \n",
       "3     0.030034         1        1  ...  43.538181  0.253000  0.000000   \n",
       "4     0.022526         1        1  ...  43.490005  0.253000  0.000000   \n",
       "5     0.022526         1        1  ...  43.602238  0.253000  0.000000   \n",
       "...        ...       ...      ...  ...        ...       ...       ...   \n",
       "9628  0.552250         1        0  ...  47.299999  0.200000  0.058530   \n",
       "9629  0.552250         1        0  ...  47.299999  0.200000  0.058706   \n",
       "9630  0.552250         1        0  ...  47.299999  0.200000  0.058580   \n",
       "9631  0.552250         1        0  ...  47.299999  0.200000  0.058705   \n",
       "9632  0.552250         1        0  ...  47.299999  0.152446  0.058604   \n",
       "\n",
       "         sip2    sxpnew     sxpsq   tnatwar      trade  warhist    xconst  \n",
       "X                                                                          \n",
       "1     0.46176  0.158275  0.052989  0.443259  72.881375        0  3.995912  \n",
       "2     0.00000  0.158321  0.052663  1.000000  72.900089        0  1.000000  \n",
       "3     0.00000  0.158425  0.052891  2.000000  72.962880        0  1.000000  \n",
       "4     0.00000  0.159006  0.052902  2.000000  73.102449        0  1.000000  \n",
       "5     0.00000  0.158074  0.052706  2.000000  72.850389        0  1.000000  \n",
       "...       ...       ...       ...       ...        ...      ...       ...  \n",
       "9628  0.35749  0.175017  0.030631  0.000000  78.975510        0  3.000000  \n",
       "9629  0.35749  0.194624  0.037878  0.000000  72.737373        0  3.000000  \n",
       "9630  0.35749  0.158606  0.052775  0.000000  79.235222        0  3.000000  \n",
       "9631  0.35749  0.157868  0.052714  0.000000  72.858179        0  3.000000  \n",
       "9632  0.35749  0.158083  0.052926  0.000000  72.860222        0  3.000000  \n",
       "\n",
       "[7140 rows x 90 columns]"
      ]
     },
     "metadata": {},
     "output_type": "display_data"
    },
    {
     "data": {
      "text/plain": [
       "X\n",
       "1       0\n",
       "2       0\n",
       "3       0\n",
       "4       0\n",
       "5       0\n",
       "       ..\n",
       "9628    0\n",
       "9629    0\n",
       "9630    0\n",
       "9631    0\n",
       "9632    0\n",
       "Name: warstds, Length: 7140, dtype: int64"
      ]
     },
     "metadata": {},
     "output_type": "display_data"
    }
   ],
   "source": [
    "##load the data \n",
    "\n",
    "DATA_PATH = '../data/'\n",
    "seed = 7\n",
    "\n",
    "data = load_data(DATA_PATH)\n",
    "features, target = data['muchlinski']\n",
    "\n",
    "display(features)\n",
    "display(target)"
   ]
  },
  {
   "cell_type": "code",
   "execution_count": 4,
   "metadata": {},
   "outputs": [
    {
     "data": {
      "text/html": [
       "<div>\n",
       "<style scoped>\n",
       "    .dataframe tbody tr th:only-of-type {\n",
       "        vertical-align: middle;\n",
       "    }\n",
       "\n",
       "    .dataframe tbody tr th {\n",
       "        vertical-align: top;\n",
       "    }\n",
       "\n",
       "    .dataframe thead th {\n",
       "        text-align: right;\n",
       "    }\n",
       "</style>\n",
       "<table border=\"1\" class=\"dataframe\">\n",
       "  <thead>\n",
       "    <tr style=\"text-align: right;\">\n",
       "      <th></th>\n",
       "      <th>ager</th>\n",
       "      <th>agexp</th>\n",
       "      <th>anoc</th>\n",
       "      <th>army85</th>\n",
       "      <th>autch98</th>\n",
       "      <th>auto4</th>\n",
       "      <th>autonomy</th>\n",
       "      <th>avgnabo</th>\n",
       "      <th>centpol3</th>\n",
       "      <th>coldwar</th>\n",
       "      <th>...</th>\n",
       "      <th>seceduc</th>\n",
       "      <th>second</th>\n",
       "      <th>semipol3</th>\n",
       "      <th>sip2</th>\n",
       "      <th>sxpnew</th>\n",
       "      <th>sxpsq</th>\n",
       "      <th>tnatwar</th>\n",
       "      <th>trade</th>\n",
       "      <th>warhist</th>\n",
       "      <th>xconst</th>\n",
       "    </tr>\n",
       "    <tr>\n",
       "      <th>X</th>\n",
       "      <th></th>\n",
       "      <th></th>\n",
       "      <th></th>\n",
       "      <th></th>\n",
       "      <th></th>\n",
       "      <th></th>\n",
       "      <th></th>\n",
       "      <th></th>\n",
       "      <th></th>\n",
       "      <th></th>\n",
       "      <th></th>\n",
       "      <th></th>\n",
       "      <th></th>\n",
       "      <th></th>\n",
       "      <th></th>\n",
       "      <th></th>\n",
       "      <th></th>\n",
       "      <th></th>\n",
       "      <th></th>\n",
       "      <th></th>\n",
       "      <th></th>\n",
       "    </tr>\n",
       "  </thead>\n",
       "  <tbody>\n",
       "    <tr>\n",
       "      <th>1</th>\n",
       "      <td>0.011565</td>\n",
       "      <td>-0.075864</td>\n",
       "      <td>-0.503682</td>\n",
       "      <td>-0.097323</td>\n",
       "      <td>0.016433</td>\n",
       "      <td>-0.005731</td>\n",
       "      <td>-0.018215</td>\n",
       "      <td>-0.053497</td>\n",
       "      <td>0.411715</td>\n",
       "      <td>0.556820</td>\n",
       "      <td>...</td>\n",
       "      <td>0.076855</td>\n",
       "      <td>0.919162</td>\n",
       "      <td>-0.007550</td>\n",
       "      <td>0.026881</td>\n",
       "      <td>0.094095</td>\n",
       "      <td>0.052437</td>\n",
       "      <td>-0.139284</td>\n",
       "      <td>0.107157</td>\n",
       "      <td>-0.454154</td>\n",
       "      <td>0.033310</td>\n",
       "    </tr>\n",
       "    <tr>\n",
       "      <th>2</th>\n",
       "      <td>0.008046</td>\n",
       "      <td>-0.079254</td>\n",
       "      <td>-0.503682</td>\n",
       "      <td>-0.097473</td>\n",
       "      <td>0.016433</td>\n",
       "      <td>1.775804</td>\n",
       "      <td>-0.082597</td>\n",
       "      <td>-1.315951</td>\n",
       "      <td>0.411715</td>\n",
       "      <td>0.556820</td>\n",
       "      <td>...</td>\n",
       "      <td>0.069821</td>\n",
       "      <td>0.919162</td>\n",
       "      <td>-0.287012</td>\n",
       "      <td>-1.219573</td>\n",
       "      <td>0.094547</td>\n",
       "      <td>0.049137</td>\n",
       "      <td>0.509491</td>\n",
       "      <td>0.107596</td>\n",
       "      <td>-0.454154</td>\n",
       "      <td>-1.298861</td>\n",
       "    </tr>\n",
       "    <tr>\n",
       "      <th>3</th>\n",
       "      <td>1.308743</td>\n",
       "      <td>-0.079039</td>\n",
       "      <td>-0.503682</td>\n",
       "      <td>-0.094927</td>\n",
       "      <td>0.016433</td>\n",
       "      <td>1.775804</td>\n",
       "      <td>-0.082597</td>\n",
       "      <td>-1.364826</td>\n",
       "      <td>0.411715</td>\n",
       "      <td>0.556820</td>\n",
       "      <td>...</td>\n",
       "      <td>0.067881</td>\n",
       "      <td>0.919162</td>\n",
       "      <td>-0.287012</td>\n",
       "      <td>-1.219573</td>\n",
       "      <td>0.095567</td>\n",
       "      <td>0.051447</td>\n",
       "      <td>1.674799</td>\n",
       "      <td>0.109070</td>\n",
       "      <td>-0.454154</td>\n",
       "      <td>-1.298861</td>\n",
       "    </tr>\n",
       "    <tr>\n",
       "      <th>4</th>\n",
       "      <td>1.339237</td>\n",
       "      <td>-0.082167</td>\n",
       "      <td>-0.503682</td>\n",
       "      <td>-0.104053</td>\n",
       "      <td>0.016433</td>\n",
       "      <td>1.775804</td>\n",
       "      <td>-0.082597</td>\n",
       "      <td>-1.389263</td>\n",
       "      <td>0.411715</td>\n",
       "      <td>0.556820</td>\n",
       "      <td>...</td>\n",
       "      <td>0.066018</td>\n",
       "      <td>0.919162</td>\n",
       "      <td>-0.287012</td>\n",
       "      <td>-1.219573</td>\n",
       "      <td>0.101303</td>\n",
       "      <td>0.051559</td>\n",
       "      <td>1.674799</td>\n",
       "      <td>0.112345</td>\n",
       "      <td>-0.454154</td>\n",
       "      <td>-1.298861</td>\n",
       "    </tr>\n",
       "    <tr>\n",
       "      <th>5</th>\n",
       "      <td>1.369731</td>\n",
       "      <td>-0.077000</td>\n",
       "      <td>-0.503682</td>\n",
       "      <td>-0.093556</td>\n",
       "      <td>0.016433</td>\n",
       "      <td>1.775804</td>\n",
       "      <td>-0.082597</td>\n",
       "      <td>-1.389263</td>\n",
       "      <td>0.411715</td>\n",
       "      <td>0.556820</td>\n",
       "      <td>...</td>\n",
       "      <td>0.070357</td>\n",
       "      <td>0.919162</td>\n",
       "      <td>-0.287012</td>\n",
       "      <td>-1.219573</td>\n",
       "      <td>0.092107</td>\n",
       "      <td>0.049569</td>\n",
       "      <td>1.674799</td>\n",
       "      <td>0.106430</td>\n",
       "      <td>-0.454154</td>\n",
       "      <td>-1.298861</td>\n",
       "    </tr>\n",
       "    <tr>\n",
       "      <th>...</th>\n",
       "      <td>...</td>\n",
       "      <td>...</td>\n",
       "      <td>...</td>\n",
       "      <td>...</td>\n",
       "      <td>...</td>\n",
       "      <td>...</td>\n",
       "      <td>...</td>\n",
       "      <td>...</td>\n",
       "      <td>...</td>\n",
       "      <td>...</td>\n",
       "      <td>...</td>\n",
       "      <td>...</td>\n",
       "      <td>...</td>\n",
       "      <td>...</td>\n",
       "      <td>...</td>\n",
       "      <td>...</td>\n",
       "      <td>...</td>\n",
       "      <td>...</td>\n",
       "      <td>...</td>\n",
       "      <td>...</td>\n",
       "      <td>...</td>\n",
       "    </tr>\n",
       "    <tr>\n",
       "      <th>9628</th>\n",
       "      <td>-0.093999</td>\n",
       "      <td>-0.262238</td>\n",
       "      <td>-0.503682</td>\n",
       "      <td>-0.306074</td>\n",
       "      <td>0.016433</td>\n",
       "      <td>0.602620</td>\n",
       "      <td>-0.082597</td>\n",
       "      <td>0.334757</td>\n",
       "      <td>0.411715</td>\n",
       "      <td>-1.795662</td>\n",
       "      <td>...</td>\n",
       "      <td>0.213322</td>\n",
       "      <td>0.415169</td>\n",
       "      <td>-0.007124</td>\n",
       "      <td>-0.254582</td>\n",
       "      <td>0.259141</td>\n",
       "      <td>-0.174152</td>\n",
       "      <td>-0.655817</td>\n",
       "      <td>0.250157</td>\n",
       "      <td>-0.454154</td>\n",
       "      <td>-0.409535</td>\n",
       "    </tr>\n",
       "    <tr>\n",
       "      <th>9629</th>\n",
       "      <td>-0.063505</td>\n",
       "      <td>-0.170693</td>\n",
       "      <td>-0.503682</td>\n",
       "      <td>-0.306074</td>\n",
       "      <td>0.016433</td>\n",
       "      <td>0.602620</td>\n",
       "      <td>-0.082597</td>\n",
       "      <td>0.334757</td>\n",
       "      <td>0.411715</td>\n",
       "      <td>-1.795662</td>\n",
       "      <td>...</td>\n",
       "      <td>0.213322</td>\n",
       "      <td>0.415169</td>\n",
       "      <td>-0.006284</td>\n",
       "      <td>-0.254582</td>\n",
       "      <td>0.452436</td>\n",
       "      <td>-0.100702</td>\n",
       "      <td>-0.655817</td>\n",
       "      <td>0.103778</td>\n",
       "      <td>-0.454154</td>\n",
       "      <td>-0.409535</td>\n",
       "    </tr>\n",
       "    <tr>\n",
       "      <th>9630</th>\n",
       "      <td>-0.033010</td>\n",
       "      <td>0.145460</td>\n",
       "      <td>-0.503682</td>\n",
       "      <td>-0.306074</td>\n",
       "      <td>0.016433</td>\n",
       "      <td>0.602620</td>\n",
       "      <td>-0.082597</td>\n",
       "      <td>0.334757</td>\n",
       "      <td>0.411715</td>\n",
       "      <td>-1.795662</td>\n",
       "      <td>...</td>\n",
       "      <td>0.213322</td>\n",
       "      <td>0.415169</td>\n",
       "      <td>-0.006889</td>\n",
       "      <td>-0.254582</td>\n",
       "      <td>0.097356</td>\n",
       "      <td>0.050272</td>\n",
       "      <td>-0.655817</td>\n",
       "      <td>0.256251</td>\n",
       "      <td>-0.454154</td>\n",
       "      <td>-0.409535</td>\n",
       "    </tr>\n",
       "    <tr>\n",
       "      <th>9631</th>\n",
       "      <td>-0.002516</td>\n",
       "      <td>-0.075457</td>\n",
       "      <td>-0.503682</td>\n",
       "      <td>-0.306074</td>\n",
       "      <td>-1.380375</td>\n",
       "      <td>0.602620</td>\n",
       "      <td>-0.082597</td>\n",
       "      <td>0.334757</td>\n",
       "      <td>0.411715</td>\n",
       "      <td>-1.795662</td>\n",
       "      <td>...</td>\n",
       "      <td>0.213322</td>\n",
       "      <td>0.415169</td>\n",
       "      <td>-0.006289</td>\n",
       "      <td>-0.254582</td>\n",
       "      <td>0.090076</td>\n",
       "      <td>0.049652</td>\n",
       "      <td>-0.655817</td>\n",
       "      <td>0.106613</td>\n",
       "      <td>-0.454154</td>\n",
       "      <td>-0.409535</td>\n",
       "    </tr>\n",
       "    <tr>\n",
       "      <th>9632</th>\n",
       "      <td>0.027978</td>\n",
       "      <td>-0.076399</td>\n",
       "      <td>-0.503682</td>\n",
       "      <td>-0.306074</td>\n",
       "      <td>0.016433</td>\n",
       "      <td>0.602620</td>\n",
       "      <td>-0.082597</td>\n",
       "      <td>0.334757</td>\n",
       "      <td>0.411715</td>\n",
       "      <td>-1.795662</td>\n",
       "      <td>...</td>\n",
       "      <td>0.213322</td>\n",
       "      <td>-0.037035</td>\n",
       "      <td>-0.006772</td>\n",
       "      <td>-0.254582</td>\n",
       "      <td>0.092205</td>\n",
       "      <td>0.051802</td>\n",
       "      <td>-0.655817</td>\n",
       "      <td>0.106661</td>\n",
       "      <td>-0.454154</td>\n",
       "      <td>-0.409535</td>\n",
       "    </tr>\n",
       "  </tbody>\n",
       "</table>\n",
       "<p>7140 rows × 90 columns</p>\n",
       "</div>"
      ],
      "text/plain": [
       "          ager     agexp      anoc    army85   autch98     auto4  autonomy  \\\n",
       "X                                                                            \n",
       "1     0.011565 -0.075864 -0.503682 -0.097323  0.016433 -0.005731 -0.018215   \n",
       "2     0.008046 -0.079254 -0.503682 -0.097473  0.016433  1.775804 -0.082597   \n",
       "3     1.308743 -0.079039 -0.503682 -0.094927  0.016433  1.775804 -0.082597   \n",
       "4     1.339237 -0.082167 -0.503682 -0.104053  0.016433  1.775804 -0.082597   \n",
       "5     1.369731 -0.077000 -0.503682 -0.093556  0.016433  1.775804 -0.082597   \n",
       "...        ...       ...       ...       ...       ...       ...       ...   \n",
       "9628 -0.093999 -0.262238 -0.503682 -0.306074  0.016433  0.602620 -0.082597   \n",
       "9629 -0.063505 -0.170693 -0.503682 -0.306074  0.016433  0.602620 -0.082597   \n",
       "9630 -0.033010  0.145460 -0.503682 -0.306074  0.016433  0.602620 -0.082597   \n",
       "9631 -0.002516 -0.075457 -0.503682 -0.306074 -1.380375  0.602620 -0.082597   \n",
       "9632  0.027978 -0.076399 -0.503682 -0.306074  0.016433  0.602620 -0.082597   \n",
       "\n",
       "       avgnabo  centpol3   coldwar  ...   seceduc    second  semipol3  \\\n",
       "X                                   ...                                 \n",
       "1    -0.053497  0.411715  0.556820  ...  0.076855  0.919162 -0.007550   \n",
       "2    -1.315951  0.411715  0.556820  ...  0.069821  0.919162 -0.287012   \n",
       "3    -1.364826  0.411715  0.556820  ...  0.067881  0.919162 -0.287012   \n",
       "4    -1.389263  0.411715  0.556820  ...  0.066018  0.919162 -0.287012   \n",
       "5    -1.389263  0.411715  0.556820  ...  0.070357  0.919162 -0.287012   \n",
       "...        ...       ...       ...  ...       ...       ...       ...   \n",
       "9628  0.334757  0.411715 -1.795662  ...  0.213322  0.415169 -0.007124   \n",
       "9629  0.334757  0.411715 -1.795662  ...  0.213322  0.415169 -0.006284   \n",
       "9630  0.334757  0.411715 -1.795662  ...  0.213322  0.415169 -0.006889   \n",
       "9631  0.334757  0.411715 -1.795662  ...  0.213322  0.415169 -0.006289   \n",
       "9632  0.334757  0.411715 -1.795662  ...  0.213322 -0.037035 -0.006772   \n",
       "\n",
       "          sip2    sxpnew     sxpsq   tnatwar     trade   warhist    xconst  \n",
       "X                                                                           \n",
       "1     0.026881  0.094095  0.052437 -0.139284  0.107157 -0.454154  0.033310  \n",
       "2    -1.219573  0.094547  0.049137  0.509491  0.107596 -0.454154 -1.298861  \n",
       "3    -1.219573  0.095567  0.051447  1.674799  0.109070 -0.454154 -1.298861  \n",
       "4    -1.219573  0.101303  0.051559  1.674799  0.112345 -0.454154 -1.298861  \n",
       "5    -1.219573  0.092107  0.049569  1.674799  0.106430 -0.454154 -1.298861  \n",
       "...        ...       ...       ...       ...       ...       ...       ...  \n",
       "9628 -0.254582  0.259141 -0.174152 -0.655817  0.250157 -0.454154 -0.409535  \n",
       "9629 -0.254582  0.452436 -0.100702 -0.655817  0.103778 -0.454154 -0.409535  \n",
       "9630 -0.254582  0.097356  0.050272 -0.655817  0.256251 -0.454154 -0.409535  \n",
       "9631 -0.254582  0.090076  0.049652 -0.655817  0.106613 -0.454154 -0.409535  \n",
       "9632 -0.254582  0.092205  0.051802 -0.655817  0.106661 -0.454154 -0.409535  \n",
       "\n",
       "[7140 rows x 90 columns]"
      ]
     },
     "metadata": {},
     "output_type": "display_data"
    }
   ],
   "source": [
    "###standardization\n",
    "\n",
    "means = features.mean()\n",
    "stds = features.std()\n",
    "\n",
    "for c in features.columns:\n",
    "    features[c] = (features[c] - means[c])/stds[c]\n",
    "    \n",
    "display(features)"
   ]
  },
  {
   "cell_type": "markdown",
   "metadata": {},
   "source": [
    "### 4) Tuning hyperparameters: Cross-validation"
   ]
  },
  {
   "cell_type": "markdown",
   "metadata": {},
   "source": [
    "AdaBoostmodel depends on an hyperparameter `nt`(number of estimators, i.e. decision trees). We will now tune it using Cross-validation."
   ]
  },
  {
   "cell_type": "code",
   "execution_count": 7,
   "metadata": {},
   "outputs": [],
   "source": [
    "def plot_precision_recall_nt(number_trees):\n",
    "    precision_scores = []\n",
    "    recalls_scores = []\n",
    "    #accuracy_scores = []\n",
    "\n",
    "    for nt in number_trees:\n",
    "        print(nt)\n",
    "        clf = AdaBoostClassifier(n_estimators=nt, random_state=0)\n",
    "        precision = cross_val_score(clf, features, target, cv=10, scoring=\"precision\")\n",
    "        precision_scores.append(precision.mean())\n",
    "        recall = cross_val_score(clf, features, target, cv=10, scoring=\"recall\")\n",
    "        recalls_scores.append(recall.mean())\n",
    "        #accuracy = cross_val_score(clf, features, target, cv=10, scoring=\"accuracy\")\n",
    "        #accuracy_scores.append(accuracy.mean())\n",
    "    \n",
    "    return precision_scores, recalls_scores"
   ]
  },
  {
   "cell_type": "code",
   "execution_count": 6,
   "metadata": {},
   "outputs": [
    {
     "name": "stdout",
     "output_type": "stream",
     "text": [
      "50\n",
      "100\n",
      "250\n",
      "500\n",
      "750\n",
      "1000\n"
     ]
    }
   ],
   "source": [
    "precision_scores, recalls_scores = plot_precision_recall_nt([50, 100, 250, 500, 750, 1000])"
   ]
  },
  {
   "cell_type": "markdown",
   "metadata": {},
   "source": [
    "Note here that it would be tempting to compute accuracy, but that this measures is meaningless in such a imbalanced dataset."
   ]
  },
  {
   "cell_type": "code",
   "execution_count": 7,
   "metadata": {},
   "outputs": [
    {
     "data": {
      "image/png": "[encoded data removed]",
      "text/plain": [
       "<Figure size 432x288 with 1 Axes>"
      ]
     },
     "metadata": {
      "needs_background": "light"
     },
     "output_type": "display_data"
    }
   ],
   "source": [
    "fig, ax = plt.subplots(1,figsize=(6,4))\n",
    "\n",
    "ax.plot(number_trees, precision_scores, label=\"Precision\")\n",
    "ax.plot(number_trees, recalls_scores, label=\"Recall\")\n",
    "\n",
    "ax.set_ylabel(\"Score value\")\n",
    "ax.set_xlabel(\"Number of trees\")\n",
    "ax.legend()\n",
    "\n",
    "fig.tight_layout()"
   ]
  },
  {
   "cell_type": "markdown",
   "metadata": {},
   "source": [
    "Precision as well as Recall seems higher around 100 estimators. Let's plot this again for nt in that range."
   ]
  },
  {
   "cell_type": "code",
   "execution_count": 10,
   "metadata": {},
   "outputs": [
    {
     "name": "stdout",
     "output_type": "stream",
     "text": [
      "70\n",
      "80\n",
      "90\n",
      "100\n",
      "110\n",
      "120\n",
      "130\n",
      "140\n",
      "150\n",
      "160\n"
     ]
    }
   ],
   "source": [
    "precision_scores, recalls_scores = plot_precision_recall_nt([70,80,90,100,110,120,130,140,150,160])"
   ]
  },
  {
   "cell_type": "code",
   "execution_count": 18,
   "metadata": {},
   "outputs": [
    {
     "data": {
      "image/png": "[encoded data removed]",
      "text/plain": [
       "<Figure size 432x288 with 1 Axes>"
      ]
     },
     "metadata": {
      "needs_background": "light"
     },
     "output_type": "display_data"
    }
   ],
   "source": [
    "fig, ax = plt.subplots(1,figsize=(6,4))\n",
    "number_trees = [70,80,90,100,110,120,130,140,150,160]\n",
    "ax.plot(number_trees, precision_scores, label=\"Precision\")\n",
    "ax.plot(number_trees, recalls_scores, label=\"Recall\")\n",
    "ax.axvline(x=110, c = 'black', linestyle = '--')\n",
    "\n",
    "ax.set_ylabel(\"Score value\")\n",
    "ax.set_xlabel(\"Number of trees\")\n",
    "ax.legend()\n",
    "\n",
    "fig.tight_layout()"
   ]
  },
  {
   "cell_type": "markdown",
   "metadata": {},
   "source": [
    "**nt = 110** seems to be a good number of trees (by default it's 50). Note that we chose 110 and not 100 because of the massive increase of Precision (which compensate for the negligeable decrease in recall). "
   ]
  },
  {
   "cell_type": "markdown",
   "metadata": {},
   "source": [
    "AdaBoostClassifier has another hyperparameter : `base_estimator` which is DecisionTreeClassifier(max_depth=1) by default. We can tune the max_depth via cross-validation."
   ]
  },
  {
   "cell_type": "code",
   "execution_count": 19,
   "metadata": {},
   "outputs": [
    {
     "name": "stdout",
     "output_type": "stream",
     "text": [
      "1\n",
      "2\n",
      "3\n",
      "4\n",
      "5\n",
      "6\n",
      "7\n"
     ]
    },
    {
     "name": "stderr",
     "output_type": "stream",
     "text": [
      "/home/loic/anaconda3/envs/ada/lib/python3.8/site-packages/sklearn/metrics/_classification.py:1221: UndefinedMetricWarning: Precision is ill-defined and being set to 0.0 due to no predicted samples. Use `zero_division` parameter to control this behavior.\n",
      "  _warn_prf(average, modifier, msg_start, len(result))\n",
      "/home/loic/anaconda3/envs/ada/lib/python3.8/site-packages/sklearn/metrics/_classification.py:1221: UndefinedMetricWarning: Precision is ill-defined and being set to 0.0 due to no predicted samples. Use `zero_division` parameter to control this behavior.\n",
      "  _warn_prf(average, modifier, msg_start, len(result))\n"
     ]
    },
    {
     "name": "stdout",
     "output_type": "stream",
     "text": [
      "8\n"
     ]
    },
    {
     "name": "stderr",
     "output_type": "stream",
     "text": [
      "/home/loic/anaconda3/envs/ada/lib/python3.8/site-packages/sklearn/metrics/_classification.py:1221: UndefinedMetricWarning: Precision is ill-defined and being set to 0.0 due to no predicted samples. Use `zero_division` parameter to control this behavior.\n",
      "  _warn_prf(average, modifier, msg_start, len(result))\n",
      "/home/loic/anaconda3/envs/ada/lib/python3.8/site-packages/sklearn/metrics/_classification.py:1221: UndefinedMetricWarning: Precision is ill-defined and being set to 0.0 due to no predicted samples. Use `zero_division` parameter to control this behavior.\n",
      "  _warn_prf(average, modifier, msg_start, len(result))\n"
     ]
    },
    {
     "name": "stdout",
     "output_type": "stream",
     "text": [
      "9\n"
     ]
    },
    {
     "name": "stderr",
     "output_type": "stream",
     "text": [
      "/home/loic/anaconda3/envs/ada/lib/python3.8/site-packages/sklearn/metrics/_classification.py:1221: UndefinedMetricWarning: Precision is ill-defined and being set to 0.0 due to no predicted samples. Use `zero_division` parameter to control this behavior.\n",
      "  _warn_prf(average, modifier, msg_start, len(result))\n"
     ]
    },
    {
     "name": "stdout",
     "output_type": "stream",
     "text": [
      "10\n"
     ]
    }
   ],
   "source": [
    "max_depth = [i for i in range(1,11)]\n",
    "precision_scores = []\n",
    "recalls_scores = []\n",
    "#accuracy_scores = []\n",
    "\n",
    "nt = 110 #tuned\n",
    "\n",
    "for depth in max_depth:\n",
    "    print(depth)\n",
    "    clf = AdaBoostClassifier(base_estimator = DecisionTreeClassifier(max_depth = depth), n_estimators=nt, random_state=0)\n",
    "    precision = cross_val_score(clf, features, target, cv=10, scoring=\"precision\")\n",
    "    precision_scores.append(precision.mean())\n",
    "    recall = cross_val_score(clf, features, target, cv=10, scoring=\"recall\")\n",
    "    recalls_scores.append(recall.mean())\n",
    "    #accuracy = cross_val_score(clf, features, target, cv=10, scoring=\"accuracy\")\n",
    "    #accuracy_scores.append(accuracy.mean())"
   ]
  },
  {
   "cell_type": "code",
   "execution_count": 20,
   "metadata": {},
   "outputs": [
    {
     "data": {
      "image/png": "[encoded data removed]",
      "text/plain": [
       "<Figure size 432x288 with 1 Axes>"
      ]
     },
     "metadata": {
      "needs_background": "light"
     },
     "output_type": "display_data"
    }
   ],
   "source": [
    "fig, ax = plt.subplots(1,figsize=(6,4))\n",
    "\n",
    "ax.plot(max_depth, precision_scores, label=\"Precision\")\n",
    "ax.plot(max_depth, recalls_scores, label=\"Recall\")\n",
    "\n",
    "ax.set_ylabel(\"Score value\")\n",
    "ax.set_xlabel(\"Max depth of Decision Trees\")\n",
    "ax.legend()\n",
    "\n",
    "fig.tight_layout()"
   ]
  },
  {
   "cell_type": "markdown",
   "metadata": {},
   "source": [
    "Here we see that the bigger the max_depth, the bigger the Precision but the lower the Recall. We have to think about what's best for our application. Should we care more about Precision or about Recall? And to what extend? After testing with different number of trees, we obtain better ROC curves with 4 and thus will keep this value."
   ]
  },
  {
   "cell_type": "markdown",
   "metadata": {},
   "source": [
    "AdaBoostClassifier has another hyperparameter : `learning_rate`. We can tune the max_depth via cross-validation."
   ]
  },
  {
   "cell_type": "code",
   "execution_count": 49,
   "metadata": {},
   "outputs": [
    {
     "name": "stdout",
     "output_type": "stream",
     "text": [
      "0.1\n",
      "0.5\n",
      "1\n",
      "1.5\n",
      "2\n"
     ]
    },
    {
     "name": "stderr",
     "output_type": "stream",
     "text": [
      "/home/loic/anaconda3/envs/ada/lib/python3.8/site-packages/sklearn/metrics/_classification.py:1221: UndefinedMetricWarning: Precision is ill-defined and being set to 0.0 due to no predicted samples. Use `zero_division` parameter to control this behavior.\n",
      "  _warn_prf(average, modifier, msg_start, len(result))\n"
     ]
    },
    {
     "name": "stdout",
     "output_type": "stream",
     "text": [
      "5\n"
     ]
    }
   ],
   "source": [
    "learning_rates = [0.1,0.5,1,1.5,2,5]\n",
    "precision_scores = []\n",
    "recalls_scores = []\n",
    "#accuracy_scores = []\n",
    "\n",
    "nt = 110 #tuned\n",
    "depth = 4 #tuned\n",
    "\n",
    "for learning_rate in learning_rates:\n",
    "    print(learning_rate)\n",
    "    clf = AdaBoostClassifier(base_estimator = DecisionTreeClassifier(max_depth = depth), n_estimators=nt, random_state=0, learning_rate=learning_rate)\n",
    "    precision = cross_val_score(clf, features, target, cv=10, scoring=\"precision\")\n",
    "    precision_scores.append(precision.mean())\n",
    "    recall = cross_val_score(clf, features, target, cv=10, scoring=\"recall\")\n",
    "    recalls_scores.append(recall.mean())\n",
    "    #accuracy = cross_val_score(clf, features, target, cv=10, scoring=\"accuracy\")\n",
    "    #accuracy_scores.append(accuracy.mean())"
   ]
  },
  {
   "cell_type": "code",
   "execution_count": 53,
   "metadata": {},
   "outputs": [
    {
     "data": {
      "image/png": "[encoded data removed]",
      "text/plain": [
       "<Figure size 432x288 with 1 Axes>"
      ]
     },
     "metadata": {
      "needs_background": "light"
     },
     "output_type": "display_data"
    }
   ],
   "source": [
    "fig, ax = plt.subplots(1,figsize=(6,4))\n",
    "\n",
    "ax.plot(learning_rates, precision_scores, label=\"Precision\")\n",
    "ax.plot(learning_rates, recalls_scores, label=\"Recall\")\n",
    "\n",
    "\n",
    "ax.set_ylabel(\"Score value\")\n",
    "ax.set_xlabel(\"Learning rate\")\n",
    "ax.legend()\n",
    "\n",
    "fig.tight_layout()"
   ]
  },
  {
   "cell_type": "markdown",
   "metadata": {},
   "source": [
    "Here we see that the best performance is obtained for the learning rate = 1 (by default). Note that there exists obviously a trade-off between learning_rate and n_estimators."
   ]
  },
  {
   "cell_type": "markdown",
   "metadata": {},
   "source": [
    "### 5) Comparing the models: \n",
    "\n",
    "#### a) ROC curves"
   ]
  },
  {
   "cell_type": "markdown",
   "metadata": {},
   "source": [
    "Now that we have tuned our AdaBoostClassifier, we will compare its performances to the other classifiers using ROC curves"
   ]
  },
  {
   "cell_type": "code",
   "execution_count": 9,
   "metadata": {},
   "outputs": [],
   "source": [
    "nt = 110 #tuned\n",
    "AdaBoostmodel = AdaBoostClassifier(base_estimator = DecisionTreeClassifier(max_depth=4), n_estimators=nt, random_state = 1)"
   ]
  },
  {
   "cell_type": "markdown",
   "metadata": {},
   "source": [
    "We will first make target predictions using cross-validation."
   ]
  },
  {
   "cell_type": "code",
   "execution_count": 10,
   "metadata": {},
   "outputs": [],
   "source": [
    "target_prediction_AdaBoostmodel = cross_val_predict(AdaBoostmodel, features, target, cv = 10, method=\"predict_proba\")"
   ]
  },
  {
   "cell_type": "markdown",
   "metadata": {},
   "source": [
    "Then use the result to compute its ROC curve:"
   ]
  },
  {
   "cell_type": "code",
   "execution_count": 13,
   "metadata": {},
   "outputs": [],
   "source": [
    "FPR_AdaBoostmodel, TPR_AdaBoostmodel, thresholds = roc_curve(target, target_prediction_AdaBoostmodel[:, 1])"
   ]
  },
  {
   "cell_type": "markdown",
   "metadata": {},
   "source": [
    "We will also compute its AUC score:"
   ]
  },
  {
   "cell_type": "code",
   "execution_count": 15,
   "metadata": {},
   "outputs": [],
   "source": [
    "AUC_AdaBoostmodel = auc(FPR_AdaBoostmodel, TPR_AdaBoostmodel)"
   ]
  },
  {
   "cell_type": "markdown",
   "metadata": {},
   "source": [
    "And now plot it:"
   ]
  },
  {
   "cell_type": "code",
   "execution_count": 17,
   "metadata": {},
   "outputs": [
    {
     "data": {
      "image/png": "[encoded data removed]",
      "text/plain": [
       "<Figure size 432x288 with 1 Axes>"
      ]
     },
     "metadata": {
      "needs_background": "light"
     },
     "output_type": "display_data"
    }
   ],
   "source": [
    "plt.plot(FPR_AdaBoostmodel, TPR_AdaBoostmodel, label = \"AdaBoostClassifier {:.2f}\".format(AUC_AdaBoostmodel))\n",
    "plt.legend(frameon = False)\n",
    "plt.xlabel(\"False Positive Rate\", labelpad = 10)\n",
    "plt.ylabel(\"True Positive Rate\", labelpad = 10)\n",
    "plt.title(\"AdaBoostClassifier ROC curve\", pad = 15, fontweight = 'bold')\n",
    "plt.savefig(\"../pictures/AdaBoostClassifier_ROC_curve.png\")"
   ]
  },
  {
   "cell_type": "markdown",
   "metadata": {},
   "source": [
    "Here is the Random Forest's ROC curve:\n",
    "\n",
    "<img src=\"../pictures/Random_forest_ROC_curve.png\" width=\"425\"/>"
   ]
  },
  {
   "cell_type": "markdown",
   "metadata": {},
   "source": [
    "As expected, our AdaBoostClassifier scores better than any of the Logistic Regression methods, but a bit worse than Random Forest."
   ]
  },
  {
   "cell_type": "markdown",
   "metadata": {},
   "source": [
    "#### b) F1-score"
   ]
  },
  {
   "cell_type": "markdown",
   "metadata": {},
   "source": [
    "#### c) Variable importance"
   ]
  },
  {
   "cell_type": "code",
   "execution_count": 29,
   "metadata": {},
   "outputs": [
    {
     "name": "stdout",
     "output_type": "stream",
     "text": [
      "0\n",
      "1\n",
      "2\n",
      "3\n",
      "4\n",
      "5\n",
      "6\n",
      "7\n",
      "8\n",
      "9\n"
     ]
    },
    {
     "name": "stderr",
     "output_type": "stream",
     "text": [
      "/home/loic/anaconda3/lib/python3.8/site-packages/sklearn/tree/_classes.py:590: RuntimeWarning: invalid value encountered in true_divide\n",
      "  return self.tree_.compute_feature_importances()\n"
     ]
    },
    {
     "name": "stdout",
     "output_type": "stream",
     "text": [
      "10\n",
      "11\n",
      "12\n",
      "13\n",
      "14\n",
      "15\n",
      "16\n",
      "17\n",
      "18\n",
      "19\n",
      "20\n",
      "21\n",
      "22\n",
      "23\n"
     ]
    },
    {
     "name": "stderr",
     "output_type": "stream",
     "text": [
      "/home/loic/anaconda3/lib/python3.8/site-packages/sklearn/tree/_classes.py:590: RuntimeWarning: invalid value encountered in true_divide\n",
      "  return self.tree_.compute_feature_importances()\n"
     ]
    },
    {
     "name": "stdout",
     "output_type": "stream",
     "text": [
      "24\n",
      "25\n",
      "26\n",
      "27\n",
      "28\n",
      "29\n",
      "30\n",
      "31\n",
      "32\n",
      "33\n",
      "34\n",
      "35\n",
      "36\n",
      "37\n",
      "38\n",
      "39\n",
      "40\n",
      "41\n",
      "42\n",
      "43\n",
      "44\n",
      "45\n",
      "46\n",
      "47\n",
      "48\n",
      "49\n"
     ]
    },
    {
     "data": {
      "text/html": [
       "<div>\n",
       "<style scoped>\n",
       "    .dataframe tbody tr th:only-of-type {\n",
       "        vertical-align: middle;\n",
       "    }\n",
       "\n",
       "    .dataframe tbody tr th {\n",
       "        vertical-align: top;\n",
       "    }\n",
       "\n",
       "    .dataframe thead th {\n",
       "        text-align: right;\n",
       "    }\n",
       "</style>\n",
       "<table border=\"1\" class=\"dataframe\">\n",
       "  <thead>\n",
       "    <tr style=\"text-align: right;\">\n",
       "      <th></th>\n",
       "      <th>count</th>\n",
       "      <th>mean</th>\n",
       "      <th>std</th>\n",
       "      <th>min</th>\n",
       "      <th>25%</th>\n",
       "      <th>50%</th>\n",
       "      <th>75%</th>\n",
       "      <th>max</th>\n",
       "    </tr>\n",
       "    <tr>\n",
       "      <th>Parameter</th>\n",
       "      <th></th>\n",
       "      <th></th>\n",
       "      <th></th>\n",
       "      <th></th>\n",
       "      <th></th>\n",
       "      <th></th>\n",
       "      <th></th>\n",
       "      <th></th>\n",
       "    </tr>\n",
       "  </thead>\n",
       "  <tbody>\n",
       "    <tr>\n",
       "      <th>geo1</th>\n",
       "      <td>50.0</td>\n",
       "      <td>0.000070</td>\n",
       "      <td>0.000191</td>\n",
       "      <td>0.000000</td>\n",
       "      <td>0.000000</td>\n",
       "      <td>0.000000e+00</td>\n",
       "      <td>0.000000e+00</td>\n",
       "      <td>0.001165</td>\n",
       "    </tr>\n",
       "    <tr>\n",
       "      <th>dem</th>\n",
       "      <td>50.0</td>\n",
       "      <td>0.000103</td>\n",
       "      <td>0.000296</td>\n",
       "      <td>0.000000</td>\n",
       "      <td>0.000000</td>\n",
       "      <td>0.000000e+00</td>\n",
       "      <td>4.745438e-07</td>\n",
       "      <td>0.001687</td>\n",
       "    </tr>\n",
       "    <tr>\n",
       "      <th>major</th>\n",
       "      <td>50.0</td>\n",
       "      <td>0.000105</td>\n",
       "      <td>0.000256</td>\n",
       "      <td>0.000000</td>\n",
       "      <td>0.000000</td>\n",
       "      <td>8.130888e-20</td>\n",
       "      <td>7.561788e-06</td>\n",
       "      <td>0.001082</td>\n",
       "    </tr>\n",
       "    <tr>\n",
       "      <th>geo2</th>\n",
       "      <td>50.0</td>\n",
       "      <td>0.000250</td>\n",
       "      <td>0.000570</td>\n",
       "      <td>0.000000</td>\n",
       "      <td>0.000000</td>\n",
       "      <td>2.919093e-05</td>\n",
       "      <td>3.070224e-04</td>\n",
       "      <td>0.003344</td>\n",
       "    </tr>\n",
       "    <tr>\n",
       "      <th>centpol3</th>\n",
       "      <td>50.0</td>\n",
       "      <td>0.000252</td>\n",
       "      <td>0.000608</td>\n",
       "      <td>0.000000</td>\n",
       "      <td>0.000000</td>\n",
       "      <td>0.000000e+00</td>\n",
       "      <td>9.100368e-05</td>\n",
       "      <td>0.003508</td>\n",
       "    </tr>\n",
       "    <tr>\n",
       "      <th>...</th>\n",
       "      <td>...</td>\n",
       "      <td>...</td>\n",
       "      <td>...</td>\n",
       "      <td>...</td>\n",
       "      <td>...</td>\n",
       "      <td>...</td>\n",
       "      <td>...</td>\n",
       "      <td>...</td>\n",
       "    </tr>\n",
       "    <tr>\n",
       "      <th>trade</th>\n",
       "      <td>50.0</td>\n",
       "      <td>0.046449</td>\n",
       "      <td>0.007808</td>\n",
       "      <td>0.032664</td>\n",
       "      <td>0.041747</td>\n",
       "      <td>4.537398e-02</td>\n",
       "      <td>5.055586e-02</td>\n",
       "      <td>0.071757</td>\n",
       "    </tr>\n",
       "    <tr>\n",
       "      <th>fuelexp</th>\n",
       "      <td>50.0</td>\n",
       "      <td>0.046857</td>\n",
       "      <td>0.005164</td>\n",
       "      <td>0.035581</td>\n",
       "      <td>0.043401</td>\n",
       "      <td>4.665125e-02</td>\n",
       "      <td>4.977727e-02</td>\n",
       "      <td>0.057902</td>\n",
       "    </tr>\n",
       "    <tr>\n",
       "      <th>sxpnew</th>\n",
       "      <td>50.0</td>\n",
       "      <td>0.047143</td>\n",
       "      <td>0.005970</td>\n",
       "      <td>0.033957</td>\n",
       "      <td>0.042926</td>\n",
       "      <td>4.636747e-02</td>\n",
       "      <td>5.031151e-02</td>\n",
       "      <td>0.060163</td>\n",
       "    </tr>\n",
       "    <tr>\n",
       "      <th>sxpsq</th>\n",
       "      <td>50.0</td>\n",
       "      <td>0.049856</td>\n",
       "      <td>0.007401</td>\n",
       "      <td>0.037783</td>\n",
       "      <td>0.044234</td>\n",
       "      <td>4.867866e-02</td>\n",
       "      <td>5.574835e-02</td>\n",
       "      <td>0.069775</td>\n",
       "    </tr>\n",
       "    <tr>\n",
       "      <th>gdpgrowth</th>\n",
       "      <td>50.0</td>\n",
       "      <td>0.059805</td>\n",
       "      <td>0.005818</td>\n",
       "      <td>0.049574</td>\n",
       "      <td>0.056108</td>\n",
       "      <td>5.865862e-02</td>\n",
       "      <td>6.325896e-02</td>\n",
       "      <td>0.078055</td>\n",
       "    </tr>\n",
       "  </tbody>\n",
       "</table>\n",
       "<p>90 rows × 8 columns</p>\n",
       "</div>"
      ],
      "text/plain": [
       "           count      mean       std       min       25%           50%  \\\n",
       "Parameter                                                                \n",
       "geo1        50.0  0.000070  0.000191  0.000000  0.000000  0.000000e+00   \n",
       "dem         50.0  0.000103  0.000296  0.000000  0.000000  0.000000e+00   \n",
       "major       50.0  0.000105  0.000256  0.000000  0.000000  8.130888e-20   \n",
       "geo2        50.0  0.000250  0.000570  0.000000  0.000000  2.919093e-05   \n",
       "centpol3    50.0  0.000252  0.000608  0.000000  0.000000  0.000000e+00   \n",
       "...          ...       ...       ...       ...       ...           ...   \n",
       "trade       50.0  0.046449  0.007808  0.032664  0.041747  4.537398e-02   \n",
       "fuelexp     50.0  0.046857  0.005164  0.035581  0.043401  4.665125e-02   \n",
       "sxpnew      50.0  0.047143  0.005970  0.033957  0.042926  4.636747e-02   \n",
       "sxpsq       50.0  0.049856  0.007401  0.037783  0.044234  4.867866e-02   \n",
       "gdpgrowth   50.0  0.059805  0.005818  0.049574  0.056108  5.865862e-02   \n",
       "\n",
       "                    75%       max  \n",
       "Parameter                          \n",
       "geo1       0.000000e+00  0.001165  \n",
       "dem        4.745438e-07  0.001687  \n",
       "major      7.561788e-06  0.001082  \n",
       "geo2       3.070224e-04  0.003344  \n",
       "centpol3   9.100368e-05  0.003508  \n",
       "...                 ...       ...  \n",
       "trade      5.055586e-02  0.071757  \n",
       "fuelexp    4.977727e-02  0.057902  \n",
       "sxpnew     5.031151e-02  0.060163  \n",
       "sxpsq      5.574835e-02  0.069775  \n",
       "gdpgrowth  6.325896e-02  0.078055  \n",
       "\n",
       "[90 rows x 8 columns]"
      ]
     },
     "metadata": {},
     "output_type": "display_data"
    }
   ],
   "source": [
    "FI = []\n",
    "\n",
    "for i in range(50):\n",
    "    print(i)\n",
    "    AdaBoostmodel = AdaBoostClassifier(base_estimator = DecisionTreeClassifier(max_depth=4), n_estimators=nt, random_state = i)\n",
    "    AdaBoostmodel.fit(features, target)\n",
    "    FI.append(AdaBoostmodel.feature_importances_)\n",
    "\n",
    "FI_map = {v:k for k,v in enumerate(features.columns.values)}\n",
    "FI_stats = pd.DataFrame(FI).describe().T\n",
    "\n",
    "FI_stats['Parameter'] = FI_map\n",
    "FI_stats = FI_stats.set_index('Parameter')\n",
    "FI_stats = FI_stats.sort_values(\"mean\", ascending = True)\n",
    "display(FI_stats)"
   ]
  },
  {
   "cell_type": "code",
   "execution_count": 30,
   "metadata": {},
   "outputs": [
    {
     "data": {
      "image/png": "[encoded data removed]",
      "text/plain": [
       "<Figure size 720x1440 with 1 Axes>"
      ]
     },
     "metadata": {
      "needs_background": "light"
     },
     "output_type": "display_data"
    }
   ],
   "source": [
    "l1 = FI_stats[\"mean\"].values\n",
    "l3 = FI_stats[\"std\"].values\n",
    "\n",
    "l2 = list(FI_stats.index.values)\n",
    "    \n",
    "def plot_variable_importance(l1,l2,l3):\n",
    "    plt.figure(figsize = (10,20))\n",
    "    plt.errorbar(l1, np.array(range(len(l1))), xerr= 2*np.array(l3), linewidth = 1,\n",
    "             linestyle = 'none',marker = 'o',markersize= 3,\n",
    "             markerfacecolor = 'black',markeredgecolor = 'black', capsize= 5)\n",
    "\n",
    "    plt.yticks(range(len(l2)),l2);\n",
    "    plt.xlabel(\"Mean of Gini Importance\")\n",
    "    plt.title(\"Variable Importance For AdaBoostClassifier\")\n",
    "    plt.savefig(\"../pictures/AdaBoostClassifier_Variable_Importance.png\")\n",
    "    \n",
    "plot_variable_importance(l1,l2,l3)"
   ]
  },
  {
   "cell_type": "code",
   "execution_count": null,
   "metadata": {},
   "outputs": [],
   "source": []
  }
 ],
 "metadata": {
  "kernelspec": {
   "display_name": "Python 3",
   "language": "python",
   "name": "python3"
  },
  "language_info": {
   "codemirror_mode": {
    "name": "ipython",
    "version": 3
   },
   "file_extension": ".py",
   "mimetype": "text/x-python",
   "name": "python",
   "nbconvert_exporter": "python",
   "pygments_lexer": "ipython3",
   "version": "3.7.6"
  }
 },
 "nbformat": 4,
 "nbformat_minor": 4
}
