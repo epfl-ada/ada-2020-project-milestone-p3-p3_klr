{
 "cells": [
  {
   "cell_type": "code",
   "execution_count": 5,
   "metadata": {},
   "outputs": [],
   "source": [
    "from helpers import load_data\n",
    "import numpy as np\n",
    "from imblearn.ensemble import BalancedRandomForestClassifier # pip install imblearn - scikit wrapper\n",
    "from sklearn import ensemble, pipeline, model_selection, metrics, preprocessing, svm\n",
    "import matplotlib.pyplot as plt\n",
    "import pandas as pd\n",
    "\n",
    "DATA_PATH = '../data/'\n",
    "seed = 7\n",
    "\n",
    "data = load_data(DATA_PATH)\n",
    "X, y = data['muchlinski']"
   ]
  },
  {
   "cell_type": "code",
   "execution_count": null,
   "metadata": {},
   "outputs": [],
   "source": [
    "kernels = ['linear','poly','rbf','sigmoid','precomputed']\n",
    "k_folds = 5\n",
    "degrees = np.arange(1,3)\n",
    "class_weights = [{0:1, 1:2**i} for i in range(3)]\n",
    "penalties = np.logspace(-5, 3, 3)\n",
    "# degrees = np.arange(1,8)\n",
    "# class_weights = [{0:1, 1:2**i} for i in range(8)]\n",
    "# penalties = np.logspace(-5, 3, 9)\n",
    "\n",
    "res = []\n",
    "\n",
    "scoring=['precision','recall','f1','roc_auc']\n",
    "\n",
    "for kernel in kernels:\n",
    "    for class_weight in class_weights:\n",
    "        for penalty in penalties: \n",
    "            if kernel=='poly':\n",
    "                # if polynomial kernel try multiple degrees\n",
    "                for d in degrees:\n",
    "                    # define pipeline and cross validate\n",
    "                    pipe = pipeline.make_pipeline(preprocessing.StandardScaler(), svm.SVC(random_state=seed, class_weight=class_weight, C=penalty, kernel=kernel))\n",
    "                    scores = model_selection.cross_validate(pipe, X=X, y=y, cv=k_folds, scoring=scoring, return_train_score=False)\n",
    "\n",
    "                    # create backlog of results\n",
    "                    cv_res = [kernel, class_weight[1], penalty, d, np.mean(scores['test_precision']), np.mean(scores['test_recall']), np.mean(scores['test_f1']), np.mean(scores['test_roc_auc'])] \n",
    "                    res.append(cv_res)\n",
    "            else:\n",
    "                # define pipeline and cross validate\n",
    "                pipe = pipeline.make_pipeline(preprocessing.StandardScaler(), svm.SVC(random_state=seed, class_weight=class_weight, C=penalty, kernel=kernel))\n",
    "                scores = model_selection.cross_validate(pipe, X=X, y=y, cv=k_folds, scoring=scoring, return_train_score=False)\n",
    "\n",
    "                # create backlog of results\n",
    "                cv_res = [kernel, class_weight[1], penalty, d, np.mean(scores['test_precision']), np.mean(scores['test_recall']), np.mean(scores['test_f1']), np.mean(scores['test_roc_auc'])] \n",
    "                res.append(cv_res)\n",
    "        \n",
    "res = pd.DataFrame(np.vstack(res), columns=['n_tree','sample_proportion','prec','rec','f1','roc_auc'])"
   ]
  }
 ],
 "metadata": {
  "kernelspec": {
   "display_name": "Python 3",
   "language": "python",
   "name": "python3"
  },
  "language_info": {
   "codemirror_mode": {
    "name": "ipython",
    "version": 3
   },
   "file_extension": ".py",
   "mimetype": "text/x-python",
   "name": "python",
   "nbconvert_exporter": "python",
   "pygments_lexer": "ipython3",
   "version": "3.7.6"
  }
 },
 "nbformat": 4,
 "nbformat_minor": 4
}
