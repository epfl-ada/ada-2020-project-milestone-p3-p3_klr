{
 "cells": [
  {
   "cell_type": "code",
   "execution_count": 5,
   "metadata": {},
   "outputs": [],
   "source": [
    "import re\n",
    "import pandas as pd\n",
    "from sklearn.model_selection import train_test_split\n",
    "from sklearn.preprocessing import StandardScaler\n",
    "\n",
    "DATA_PATH = '../data/'\n",
    "seed = 7\n",
    "\n",
    "# Extract features used in each paper from notes.txt\n",
    "with open(DATA_PATH+'notes.txt') as f:\n",
    "\n",
    "    task_notes = f.readlines()\n",
    "    task_notes = ''.join(task_notes)\n",
    "\n",
    "    auth_features = re.search(r'(?<=91 variables:)[^.\\(]*',task_notes).group()\n",
    "    auth_features = re.sub('\\n|\\s|\\\"','',auth_features).split(',')\n",
    "\n",
    "# load data\n",
    "master_data = pd.read_csv(DATA_PATH+'SambnisImp.csv', index_col='X')\n",
    "\n",
    "# split data into features used for each paper and retrieve regressand\n",
    "y_master = master_data['warstds']\n",
    "\n",
    "\n",
    "auth_x = master_data[auth_features]"
   ]
  },
  {
   "cell_type": "code",
   "execution_count": 6,
   "outputs": [],
   "source": [
    "#get the dataset\n",
    "X = auth_x['warstds']\n",
    "y = auth_x.drop('warstds', axis = 1)\n",
    "\n",
    "# train-test split\n",
    "X_train, X_test, y_train, y_test = train_test_split(y, X, test_size = 0.20)"
   ],
   "metadata": {
    "collapsed": false,
    "pycharm": {
     "name": "#%%\n"
    }
   }
  },
  {
   "cell_type": "code",
   "execution_count": 7,
   "outputs": [],
   "source": [
    "#scale features; fit inly on trian split\n",
    "scaler = StandardScaler()\n",
    "scaler.fit(X_train)\n",
    "\n",
    "X_train = scaler.transform(X_train)\n",
    "X_test = scaler.transform(X_test)"
   ],
   "metadata": {
    "collapsed": false,
    "pycharm": {
     "name": "#%%\n"
    }
   }
  },
  {
   "cell_type": "code",
   "execution_count": 8,
   "outputs": [
    {
     "data": {
      "text/plain": "MLPClassifier(hidden_layer_sizes=(128, 128, 256, 128, 128), max_iter=1000)"
     },
     "execution_count": 8,
     "metadata": {},
     "output_type": "execute_result"
    }
   ],
   "source": [
    "from sklearn.neural_network import MLPClassifier\n",
    "\n",
    "#defining the model\n",
    "mlp = MLPClassifier(hidden_layer_sizes=(128, 128, 256, 128, 128), max_iter=1000)\n",
    "mlp.fit(X_train, y_train.values.ravel())"
   ],
   "metadata": {
    "collapsed": false,
    "pycharm": {
     "name": "#%%\n"
    }
   }
  },
  {
   "cell_type": "code",
   "execution_count": 9,
   "outputs": [
    {
     "name": "stdout",
     "output_type": "stream",
     "text": [
      "              precision    recall  f1-score   support\n",
      "\n",
      "           0       0.98      0.99      0.99      1403\n",
      "           1       0.00      0.00      0.00        25\n",
      "\n",
      "    accuracy                           0.98      1428\n",
      "   macro avg       0.49      0.50      0.49      1428\n",
      "weighted avg       0.97      0.98      0.97      1428\n",
      "\n",
      "ROC AUC: 0.497149\n",
      "F1 score: 0.000000\n"
     ]
    }
   ],
   "source": [
    "from sklearn.metrics import classification_report, f1_score, roc_auc_score\n",
    "\n",
    "predictions = mlp.predict(X_test)\n",
    "print(classification_report(y_test,predictions))\n",
    "\n",
    "# ROC AUC\n",
    "auc = roc_auc_score(y_test, predictions)\n",
    "print('ROC AUC: %f' % auc)\n",
    "\n",
    "f1 = f1_score(y_test, predictions)\n",
    "print('F1 score: %f' % f1)\n",
    "\n",
    "\n",
    "\n"
   ],
   "metadata": {
    "collapsed": false,
    "pycharm": {
     "name": "#%%\n"
    }
   }
  }
 ],
 "metadata": {
  "kernelspec": {
   "display_name": "Python 3",
   "language": "python",
   "name": "python3"
  },
  "language_info": {
   "codemirror_mode": {
    "name": "ipython",
    "version": 3
   },
   "file_extension": ".py",
   "mimetype": "text/x-python",
   "name": "python",
   "nbconvert_exporter": "python",
   "pygments_lexer": "ipython3",
   "version": "3.7.6"
  }
 },
 "nbformat": 4,
 "nbformat_minor": 4
}